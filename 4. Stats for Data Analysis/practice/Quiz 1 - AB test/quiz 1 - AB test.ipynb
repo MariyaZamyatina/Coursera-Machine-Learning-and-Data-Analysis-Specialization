{
 "cells": [
  {
   "cell_type": "markdown",
   "metadata": {},
   "source": [
    "## Анализ результатов АБ-теста"
   ]
  },
  {
   "cell_type": "code",
   "execution_count": 1,
   "metadata": {
    "collapsed": true
   },
   "outputs": [],
   "source": [
    "import numpy as np\n",
    "import pandas as pd\n",
    "import matplotlib.pyplot as plt\n",
    "import scipy\n",
    "from scipy import stats\n",
    "from statsmodels.sandbox.stats.multicomp import multipletests \n",
    "%matplotlib inline"
   ]
  },
  {
   "cell_type": "markdown",
   "metadata": {},
   "source": [
    "### Question 1\n",
    "\n",
    "В данном задании вам нужно будет\n",
    "\n",
    "* проанализировать АБ тест, проведенный на реальных пользователях Яндекса\n",
    "\n",
    "* подтвердить или опровергнуть наличие изменений в пользовательском поведении между контрольной (control) и тестовой (exp) группами\n",
    "\n",
    "* определить характер этих изменений и практическую значимость вводимого изменения\n",
    "\n",
    "* понять, какая из пользовательских групп более всего проигрывает / выигрывает от тестируемого изменения (локализовать изменение)\n",
    "\n",
    "**Описание данных:**\n",
    "\n",
    "* userID: уникальный идентификатор пользователя\n",
    "\n",
    "* browser: браузер, который использовал userID\n",
    "\n",
    "* slot: в каком статусе пользователь участвовал в исследовании (exp = видел измененную страницу, control = видел неизменную страницу)\n",
    "\n",
    "* n_clicks: количество кликов, которые пользоваль совершил за n_queries\n",
    "\n",
    "* n_queries: количество запросов, который совершил userID, пользуясь браузером browser\n",
    "\n",
    "* n_nonclk_queries: количество запросов пользователя, в которых им не было совершено ни одного клика\n",
    "\n",
    "Обращаем ваше внимание, что не все люди используют только один браузер, поэтому в столбце userID есть повторяющиеся идентификаторы. В предлагаемых данных уникальным является сочетание userID и browser.\n",
    "\n",
    "Основная метрика, на которой мы сосредоточимся в этой работе, — это количество пользовательских кликов на web-странице в зависимости от тестируемого изменения этой страницы.\n",
    "\n",
    "Посчитайте, насколько в группе exp больше пользовательских кликов по сравнению с группой control в процентах от числа кликов в контрольной группе.\n",
    "\n",
    "Полученный процент округлите до третьего знака после точки."
   ]
  },
  {
   "cell_type": "code",
   "execution_count": 2,
   "metadata": {
    "collapsed": false
   },
   "outputs": [
    {
     "data": {
      "text/html": [
       "<div>\n",
       "<table border=\"1\" class=\"dataframe\">\n",
       "  <thead>\n",
       "    <tr style=\"text-align: right;\">\n",
       "      <th></th>\n",
       "      <th>userID</th>\n",
       "      <th>browser</th>\n",
       "      <th>slot</th>\n",
       "      <th>n_clicks</th>\n",
       "      <th>n_queries</th>\n",
       "      <th>n_nonclk_queries</th>\n",
       "    </tr>\n",
       "  </thead>\n",
       "  <tbody>\n",
       "    <tr>\n",
       "      <th>0</th>\n",
       "      <td>1</td>\n",
       "      <td>Browser #2</td>\n",
       "      <td>exp</td>\n",
       "      <td>23</td>\n",
       "      <td>32</td>\n",
       "      <td>19</td>\n",
       "    </tr>\n",
       "    <tr>\n",
       "      <th>1</th>\n",
       "      <td>3</td>\n",
       "      <td>Browser #4</td>\n",
       "      <td>exp</td>\n",
       "      <td>3</td>\n",
       "      <td>4</td>\n",
       "      <td>2</td>\n",
       "    </tr>\n",
       "    <tr>\n",
       "      <th>2</th>\n",
       "      <td>5</td>\n",
       "      <td>Browser #4</td>\n",
       "      <td>exp</td>\n",
       "      <td>29</td>\n",
       "      <td>35</td>\n",
       "      <td>16</td>\n",
       "    </tr>\n",
       "    <tr>\n",
       "      <th>3</th>\n",
       "      <td>6</td>\n",
       "      <td>Browser #4</td>\n",
       "      <td>control</td>\n",
       "      <td>12</td>\n",
       "      <td>6</td>\n",
       "      <td>0</td>\n",
       "    </tr>\n",
       "    <tr>\n",
       "      <th>4</th>\n",
       "      <td>7</td>\n",
       "      <td>Browser #4</td>\n",
       "      <td>exp</td>\n",
       "      <td>54</td>\n",
       "      <td>68</td>\n",
       "      <td>30</td>\n",
       "    </tr>\n",
       "  </tbody>\n",
       "</table>\n",
       "</div>"
      ],
      "text/plain": [
       "   userID     browser     slot  n_clicks  n_queries  n_nonclk_queries\n",
       "0       1  Browser #2      exp        23         32                19\n",
       "1       3  Browser #4      exp         3          4                 2\n",
       "2       5  Browser #4      exp        29         35                16\n",
       "3       6  Browser #4  control        12          6                 0\n",
       "4       7  Browser #4      exp        54         68                30"
      ]
     },
     "execution_count": 2,
     "metadata": {},
     "output_type": "execute_result"
    }
   ],
   "source": [
    "data = pd.read_csv('ab_browser_test.csv')\n",
    "data.head()"
   ]
  },
  {
   "cell_type": "code",
   "execution_count": 4,
   "metadata": {
    "collapsed": false
   },
   "outputs": [
    {
     "data": {
      "text/plain": [
       "(566134, 6)"
      ]
     },
     "execution_count": 4,
     "metadata": {},
     "output_type": "execute_result"
    }
   ],
   "source": [
    "data.shape"
   ]
  },
  {
   "cell_type": "code",
   "execution_count": 5,
   "metadata": {
    "collapsed": true
   },
   "outputs": [],
   "source": [
    "data_exp = data[data.slot == 'exp']\n",
    "data_control = data[data.slot == 'control']"
   ]
  },
  {
   "cell_type": "code",
   "execution_count": 6,
   "metadata": {
    "collapsed": false
   },
   "outputs": [
    {
     "name": "stdout",
     "output_type": "stream",
     "text": [
      "n_queries, exp:  3261823\n",
      "n_queries, control:  3210027\n"
     ]
    }
   ],
   "source": [
    "n_queries_exp = sum(data_exp.n_clicks)\n",
    "n_queries_control = sum(data_control.n_clicks)\n",
    "\n",
    "print \"n_queries, exp: \", n_queries_exp\n",
    "print \"n_queries, control: \", n_queries_control"
   ]
  },
  {
   "cell_type": "code",
   "execution_count": 7,
   "metadata": {
    "collapsed": false
   },
   "outputs": [
    {
     "data": {
      "text/plain": [
       "1.6135689824415806"
      ]
     },
     "execution_count": 7,
     "metadata": {},
     "output_type": "execute_result"
    }
   ],
   "source": [
    "(n_queries_exp - n_queries_control)/(n_queries_control/100.0)"
   ]
  },
  {
   "cell_type": "markdown",
   "metadata": {},
   "source": [
    "### Question 2\n",
    "\n",
    "Давайте попробуем посмотреть более внимательно на разницу между двумя группами (control и exp) относительно количества пользовательских кликов.\n",
    "\n",
    "Для этого постройте с помощью бутстрепа 95% доверительный интервал для средних значений и медиан количества кликов в каждой из двух групп. Отметьте все верные утверждения."
   ]
  },
  {
   "cell_type": "code",
   "execution_count": 8,
   "metadata": {
    "collapsed": true
   },
   "outputs": [],
   "source": [
    "def get_bootstrap_samples(data, n_samples):\n",
    "    indices = np.random.randint(0, len(data), (n_samples, len(data)))\n",
    "    samples = data[indices]\n",
    "    return samples\n",
    "\n",
    "def stat_intervals(stat, alpha):\n",
    "    boundaries = np.percentile(stat, [100 * alpha / 2., 100 * (1 - alpha / 2.)])\n",
    "    return boundaries"
   ]
  },
  {
   "cell_type": "code",
   "execution_count": 9,
   "metadata": {
    "collapsed": true
   },
   "outputs": [],
   "source": [
    "n_queries_exp = data_exp.n_clicks.values\n",
    "n_queries_control = data_control.n_clicks.values"
   ]
  },
  {
   "cell_type": "code",
   "execution_count": 10,
   "metadata": {
    "collapsed": true
   },
   "outputs": [],
   "source": [
    "samples_exp = get_bootstrap_samples(n_queries_exp, 1000)\n",
    "samples_control = get_bootstrap_samples(n_queries_control, 1000)\n",
    "\n",
    "exp_mean_scores = map(np.mean, samples_exp)\n",
    "control_mean_scores = map(np.mean, samples_control)\n",
    "\n",
    "exp_median_scores = map(np.median, samples_exp)\n",
    "control_median_scores = map(np.median, samples_control)"
   ]
  },
  {
   "cell_type": "code",
   "execution_count": 11,
   "metadata": {
    "collapsed": false
   },
   "outputs": [
    {
     "name": "stdout",
     "output_type": "stream",
     "text": [
      "95% confidence interval for the EXP mean: [ 11.50928218  11.66267189]\n",
      "95% confidence interval for the CONTROL mean: [ 11.20687945  11.36263143]\n"
     ]
    }
   ],
   "source": [
    "print \"95% confidence interval for the EXP mean:\",  stat_intervals(exp_mean_scores, 0.05)\n",
    "print \"95% confidence interval for the CONTROL mean:\",  stat_intervals(control_mean_scores, 0.05)"
   ]
  },
  {
   "cell_type": "code",
   "execution_count": 12,
   "metadata": {
    "collapsed": false
   },
   "outputs": [
    {
     "name": "stdout",
     "output_type": "stream",
     "text": [
      "95% confidence interval for the EXP median: [ 5.  5.]\n",
      "95% confidence interval for the CONTROL median: [ 4.  4.]\n"
     ]
    }
   ],
   "source": [
    "print \"95% confidence interval for the EXP median:\",  stat_intervals(exp_median_scores, 0.05)\n",
    "print \"95% confidence interval for the CONTROL median:\",  stat_intervals(control_median_scores, 0.05)"
   ]
  },
  {
   "cell_type": "code",
   "execution_count": 13,
   "metadata": {
    "collapsed": false
   },
   "outputs": [
    {
     "name": "stdout",
     "output_type": "stream",
     "text": [
      "95% confidence interval for the difference between means [ 0.19182453  0.40551523]\n"
     ]
    }
   ],
   "source": [
    "delta_mean_scores = np.array(exp_mean_scores) - np.array(control_mean_scores)\n",
    "\n",
    "print \"95% confidence interval for the difference between means\",  \\\n",
    "    stat_intervals(delta_mean_scores, 0.05)"
   ]
  },
  {
   "cell_type": "code",
   "execution_count": 14,
   "metadata": {
    "collapsed": false
   },
   "outputs": [
    {
     "name": "stdout",
     "output_type": "stream",
     "text": [
      "95% confidence interval for the difference between medians [ 1.  1.]\n"
     ]
    }
   ],
   "source": [
    "delta_median_scores = np.array(exp_median_scores) - np.array(control_median_scores)\n",
    "\n",
    "print \"95% confidence interval for the difference between medians\",  \\\n",
    "    stat_intervals(delta_median_scores, 0.05)"
   ]
  },
  {
   "cell_type": "markdown",
   "metadata": {},
   "source": [
    "*  95% доверительный интервал для разности средних не содержит ноль, похоже, средние отличаются статистически значимо (TRUE)\n",
    "\n",
    "* 95% доверительный интервал для разности медиан содержит ноль, похоже, медианы существенно не отличаются (FALSE)\n",
    "\n",
    "* Применение bootstrap на выборках такого большого размера неправомерно, потому что bootstrap делает псведовыборки с возвращениями, а с ростом объема исходной выборки псведовыборки с возвращениями становятся более похожими на псведовыборки без возвращения. (FALSE)\n",
    "\n",
    "* 95% доверительный интервал для разности медиан не содержит ноль, похоже, медианы отличаются статистически значимо (TRUE)\n",
    "\n",
    "* 95% доверительный интервал для разности средних содержит ноль, похоже, средние существенно не отличаются (FALSE)"
   ]
  },
  {
   "cell_type": "markdown",
   "metadata": {},
   "source": [
    "### Question 3\n",
    "\n",
    "Поскольку данных достаточно много (порядка полумиллиона уникальных пользователей), отличие в несколько процентов может быть не только практически значимым, но и значимым статистически. Последнее утверждение нуждается в дополнительной проверке.\n",
    "\n",
    "Посмотрите на выданные вам данные и выберите все верные варианты ответа относительно проверки гипотезы о равенстве среднего количества кликов в группах."
   ]
  },
  {
   "cell_type": "markdown",
   "metadata": {},
   "source": [
    "* Все ответы неверны\n",
    "\n",
    "    (TRUE)\n",
    "\n",
    "* Для проверки гипотезы о равенстве средних в данной задаче можно использовать только параметрические критерии, потому что непараметрические, как известно, с увеличением размера выборки могут давать непредсказуемые результаты в силу случайности в определении их нулевого распределения.\n",
    "\n",
    "    (FALSE)\n",
    "\n",
    "* Гипотезу о равенстве средних между двумя выборками можно проверить с помощью построения доверительного интервала для среднего объединенной выборки, потому что в силу большого объема выборки этот интервал будет очень точным, и мы сможем надежно оценить необходимый доверительный интервал\n",
    "\n",
    "    (FALSE)\n",
    "\n",
    "* Для проверки гипотезы о равенстве средних категорически нельзя использовать t-критерий Стьюдента ни при каком размере выборки, потому что количество кликов, которые мы исследуем, больше походят на распределение Пуассона, которое сильно отличается от нормального.\n",
    "\n",
    "    (FALSE)\n",
    "\n",
    "* Используя центральную предельную теорему, мы можем заключить, что с ростом объема выборки любое исследуемое распределение, становится похожим на нормальное, а значит, учитывая большой объем нашей выборки, оптимальным критерием в нашей задаче будет z-критерий.\n",
    "\n",
    "    (FALSE)"
   ]
  },
  {
   "cell_type": "markdown",
   "metadata": {},
   "source": [
    "### Question 4 \n",
    "\n",
    "t-критерий Стьюдента имеет множество достоинств, и потому его достаточно часто применяют в AB экспериментах. Иногда его применение может быть необоснованно из-за сильной скошенности распределения данных.\n",
    "\n",
    "Давайте постараемся понять, когда t-критерий можно применять и как это проверить на реальных данных.\n",
    "\n",
    "Для простоты рассмотрим одновыборочный t-критерий. Его статистика имеет вид $\\frac{\\bar{X} - \\mu}{ \\sqrt {S^2 / n}}$, то есть чтобы действительно предположения t-критерия выполнялись необходимо, чтобы:\n",
    "\n",
    "* $\\bar{X}$ - среднее значение в выборке — было распределено нормально $\\mathcal{N}(\\mu, \\frac{\\sigma^2}{n})$ \n",
    "\n",
    "* $\\frac{n}{\\sigma^2} S^2$ — несмещенная оценка дисперсии c масштабирующим коэффициентом — была распределена по хи-квадрат c $n - 1$ степенями свободы $\\chi^2  (n-1)$\n",
    "\n",
    "Простое доказательство необходимости и достаточности этого требования можно посмотреть в самом последнем абзаце этого вопроса. Усвоение этого доказательства не обязательно для выполнения задания.\n",
    "\n",
    "Оба этих предположения можно проверить с помощью бутстрепа. Ограничимся сейчас только контрольной группой, в которой распределение кликов будем называть данными в рамках данного вопроса.\n",
    "\n",
    "Поскольку мы не знаем истинного распределения генеральной совокупности, мы можем применить бутстреп, чтобы понять, как распределены среднее значение и выборочная дисперсия. Для этого: \n",
    "\n",
    "1. Получите из данных n_boot_samples псевдовыборок.\n",
    "\n",
    "2. По каждой из этих выборок посчитайте среднее и сумму квадратов отклонения от выборочного среднего (control_boot_chi_squared)\n",
    "3. Для получившегося вектора средних значений из n_boot_samples постройте q-q plot с помощью scipy.stats.probplot для нормального распределения\n",
    "\n",
    "4. Для получившегося вектора сумм квадратов отклонения от выборочного среднего постройте qq-plot с помощью scipy.stats.probplot для хи-квадрат распределения с помощью команды\n",
    "\n",
    "scipy.stats.probplot(control_boot_chi_squared, dist=\"chi2\", \n",
    "                     sparams=(n-1), plot=plt)\n",
    "                     \n",
    "Где sparams=(n-1) означают число степеней свободы = длине выборки - 1.\n",
    "\n",
    "Чтобы получить такой же ответ, как у нас, зафиксируйте seed и количество псевдовыборок:\n",
    "\n",
    "np.random.seed(0)\n",
    "n_boot_samples = 500\n",
    "\n",
    "В качестве ответа отметьте верные утвердения о значениях $R^2$, которые генерирует scipy.stats.probplot при отображении qq-графиков: одно c графика для среднего и одно с графика для выборочной суммы квадратов отклонения от выборочной суммы.\n",
    "\n",
    "**Почему мы проверяем именно такие условия?**\n",
    "\n",
    "В исходной постановке t-критерий требует нормальности распределения $X_i$. Именно из-за этого предположения мы имеем, что $\\sum_i X_i  \\sim  \\mathcal{N}(n \\mu, n\\sigma^2 )$ в силу линейности матожидания, независимости всех $X_i$ между собой и того факта, что сумма нескольких нормальных случайных величин также нормальна.\n",
    "\n",
    "Поэтому, пользуясь опять формальными свойствами матожидания и дисперсии можем записать, что $\\frac{1}{n} \\sum_i X_i  - \\mu ~\\sim~ \\mathcal{N}(0,  \\frac{\\sigma^2}{n} )$\n",
    "\n",
    "Заметим теперь, что следующие распределения эквивалентны $\\mathcal{N} (0, \\frac{\\sigma^2}{n}) \\sim \\sqrt{\\frac{\\sigma^2}{n}} \\mathcal{N}(0, 1)$\n",
    "\n",
    "То есть другими словами мы получили, что исходная статистика $\\frac{\\bar{X} - \\mu}{ \\sqrt {S^2 / n}}$ распределена как $\\frac{ \\mathcal{N}(0, 1) } { \\sqrt {  \\frac{S^2n} { n  \\sigma^2} } }   ~\\sim~  \\frac{ \\mathcal{N}(0, 1) } { \\sqrt { \\frac{S^2} { \\sigma^2} } }$\n",
    "\n",
    "Вспомним, что распределение Стьюдента с $n−1$ степенями свободы определяется как $\\frac{ \\mathcal{N}(0, 1) } { \\sqrt { \\chi^2 / (n-1)  } }$. Поэтому и требования, которые накладываются, имеют вид, указанный в начале этого вопроса.\n",
    "\n",
    "Полезно, однако, заметить, что можно подставить в числитель и знаменатель любые случайные величины, распределенные по нормальному закону и по Хи-квадрат соответственно, для этого необязательно, чтобы именно $X_i$ были распределены нормально. Поэтому, если мы убедимся в том, что, действительно, числитель и знаменатель распределены образом, указанным выше, то можно смело использовать t-критерий Стьюдента."
   ]
  },
  {
   "cell_type": "code",
   "execution_count": 15,
   "metadata": {
    "collapsed": true
   },
   "outputs": [],
   "source": [
    "n_boot_samples = 500\n",
    "np.random.seed(0)\n",
    "\n",
    "samples = get_bootstrap_samples(n_queries_control, n_boot_samples)"
   ]
  },
  {
   "cell_type": "code",
   "execution_count": 16,
   "metadata": {
    "collapsed": true
   },
   "outputs": [],
   "source": [
    "def get_squared_deviations(sample):\n",
    "    mean = np.mean(sample)\n",
    "    return np.sum((sample - mean)**2)"
   ]
  },
  {
   "cell_type": "code",
   "execution_count": 17,
   "metadata": {
    "collapsed": true
   },
   "outputs": [],
   "source": [
    "mean_scores = map(np.mean, samples)\n",
    "control_boot_chi_squared = map(get_squared_deviations, samples)"
   ]
  },
  {
   "cell_type": "code",
   "execution_count": 18,
   "metadata": {
    "collapsed": false
   },
   "outputs": [
    {
     "data": {
      "image/png": "[encoded data removed]",
      "text/plain": [
       "<matplotlib.figure.Figure at 0xdef90b8>"
      ]
     },
     "metadata": {},
     "output_type": "display_data"
    }
   ],
   "source": [
    "plt.figure(figsize=(12,8))\n",
    "plt.subplot(2,2,1)\n",
    "scipy.stats.probplot(mean_scores, dist='norm', plot=plt)\n",
    "plt.show()"
   ]
  },
  {
   "cell_type": "code",
   "execution_count": 19,
   "metadata": {
    "collapsed": false
   },
   "outputs": [
    {
     "data": {
      "image/png": "[encoded data removed]",
      "text/plain": [
       "<matplotlib.figure.Figure at 0xc473e10>"
      ]
     },
     "metadata": {},
     "output_type": "display_data"
    }
   ],
   "source": [
    "plt.figure(figsize=(12,8))\n",
    "plt.subplot(2,2,1)\n",
    "scipy.stats.probplot(control_boot_chi_squared, dist=\"chi2\", sparams=(len(control_boot_chi_squared) - 1), plot=plt)\n",
    "plt.show()"
   ]
  },
  {
   "cell_type": "markdown",
   "metadata": {},
   "source": [
    "* $R^2$ для выборочной суммы квадратов отклонения от выборочной суммы получился меньше, чем 0.99\n",
    "    (FALSE)\n",
    "\n",
    "* $R^2$ для выборочного среднего получился больше, чем 0.99\n",
    "    (TRUE)\n",
    "\n",
    "* $R^2$ для выборочной суммы квадратов отклонения от выборочной суммы получился больше, чем 0.99\n",
    "    (TRUE)\n",
    "\n",
    "* $R^2$ для выборочного среднего получился меньше, чем 0.99\n",
    "    (FALSE)"
   ]
  },
  {
   "cell_type": "markdown",
   "metadata": {},
   "source": [
    "### Question 5\n",
    "\n",
    "Одним из возможных аналогов t-критерия, которым можно воспрользоваться, является тест Манна-Уитни. На достаточно обширном классе распределений он является асимптотически более эффективным, чем t-критерий, и при этом не требует параметрических предположений о характере распределения.\n",
    "\n",
    "Разделите выборку на две части, соответствующие control и exp группам. Преобразуйте данные к виду, чтобы каждому пользователю соответствовало суммарное значение его кликов. С помощью критерия Манна-Уитни проверьте гипотезу о равенстве средних. Что можно сказать о получившемся значении достигаемого уровня значимости ? Выберите все правильные ответы"
   ]
  },
  {
   "cell_type": "code",
   "execution_count": 20,
   "metadata": {
    "collapsed": true
   },
   "outputs": [],
   "source": [
    "from collections import namedtuple\n",
    "MannwhitneyuResult = namedtuple('MannwhitneyuResult', ('statistic', 'pvalue'))\n",
    "\n",
    "def tiecorrect(rankvals):\n",
    "    arr = np.sort(rankvals)\n",
    "    idx = np.nonzero(np.r_[True, arr[1:] != arr[:-1], True])[0]\n",
    "    cnt = np.diff(idx).astype(np.float64)\n",
    "    size = np.float64(arr.size)\n",
    "    return 1.0 if size < 2 else 1.0 - (cnt**3 - cnt).sum() / (size**3 - size)\n",
    "\n",
    "def mannwhitneyu(x, y, use_continuity=True, alternative=None):\n",
    "    if alternative is None:\n",
    "        warnings.warn(\"Calling `mannwhitneyu` without specifying \"\n",
    "                      \"`alternative` is deprecated.\", DeprecationWarning)\n",
    "\n",
    "    x = np.asarray(x)\n",
    "    y = np.asarray(y)\n",
    "    n1 = len(x)\n",
    "    n2 = len(y)\n",
    "    ranked = scipy.stats.rankdata(np.concatenate((x, y)))\n",
    "    rankx = ranked[0:n1]  # get the x-ranks\n",
    "    u1 = n1*n2 + (n1*(n1+1))/2.0 - np.sum(rankx, axis=0)  # calc U for x\n",
    "    u2 = n1*n2 - u1  # remainder is U for y\n",
    "    T = tiecorrect(ranked)\n",
    "    if T == 0:\n",
    "        raise ValueError('All numbers are identical in mannwhitneyu')\n",
    "    sd = np.sqrt(T * n1 * n2 * (n1+n2+1) / 12.0)\n",
    "\n",
    "    meanrank = n1*n2/2.0 + 0.5 * use_continuity\n",
    "    if alternative is None or alternative == 'two-sided':\n",
    "        bigu = max(u1, u2)\n",
    "    elif alternative == 'less':\n",
    "        bigu = u1\n",
    "    elif alternative == 'greater':\n",
    "        bigu = u2\n",
    "    else:\n",
    "        raise ValueError(\"alternative should be None, 'less', 'greater' \"\n",
    "                         \"or 'two-sided'\")\n",
    "    z = (bigu - meanrank) / sd\n",
    "    if alternative is None:\n",
    "        # This behavior, equal to half the size of the two-sided\n",
    "        # p-value, is deprecated.\n",
    "        p = scipy.stats.distributions.norm.sf(abs(z))\n",
    "    elif alternative == 'two-sided':\n",
    "        p = 2 * scipy.stats.distributions.norm.sf(abs(z))\n",
    "    else:\n",
    "        p = scipy.stats.distributions.norm.sf(z)\n",
    "    u = u2\n",
    "    # This behavior is deprecated.\n",
    "    if alternative is None:\n",
    "        u = min(u1, u2)\n",
    "    return MannwhitneyuResult(u, p)"
   ]
  },
  {
   "cell_type": "code",
   "execution_count": 21,
   "metadata": {
    "collapsed": true
   },
   "outputs": [],
   "source": [
    "n_clicks_exp_by_user = data_exp.groupby(by='userID')['n_clicks'].agg(np.sum)\n",
    "n_click_control_by_user = data_control.groupby(by='userID')['n_clicks'].agg(np.sum)"
   ]
  },
  {
   "cell_type": "code",
   "execution_count": 22,
   "metadata": {
    "collapsed": false
   },
   "outputs": [
    {
     "data": {
      "text/plain": [
       "MannwhitneyuResult(statistic=41140868471.0, pvalue=8.6942943775208786e-75)"
      ]
     },
     "execution_count": 22,
     "metadata": {},
     "output_type": "execute_result"
    }
   ],
   "source": [
    "mannwhitneyu(n_clicks_exp_by_user, n_click_control_by_user, alternative='two-sided')"
   ]
  },
  {
   "cell_type": "markdown",
   "metadata": {},
   "source": [
    "* Критерий Манна-Уитни в данной задаче применять нельзя, поэтому вопрос о достигаемом уровне значимости некорректен (FALSE)\n",
    "\n",
    "* Получившееся значение достигаемого уровня значимости свидетельствует о статистической значимости отличий между двумя выборками (TRUE)\n",
    "\n",
    "* $p<0.01$, поэтому можно сказать, что отличия незначительны на уровне доверия 0.05 (FALSE)\n",
    "\n",
    "* Согласно полученному значению p-value, мы вынуждены принять нулевую гипотезу (FALSE)"
   ]
  },
  {
   "cell_type": "markdown",
   "metadata": {},
   "source": [
    "### Question 6\n",
    "\n",
    "Проверьте, для какого из браузеров наиболее сильно выражено отличие между количеством кликов в контрольной и экспериментальной группах.\n",
    "\n",
    "Для этого примените для каждого из срезов (по каждому из уникальных значений столбца browser) критерий Манна-Уитни между control и exp группами и сделайте поправку Холма-Бонферрони на множественную проверку с α=0.05.\n",
    "\n",
    "Какое заключение можно сделать исходя из полученных результатов ?\n",
    "\n",
    "В качестве ответа введите количество незначимых изменений с точки зрения результатов, полученных после введения коррекции."
   ]
  },
  {
   "cell_type": "code",
   "execution_count": 23,
   "metadata": {
    "collapsed": false
   },
   "outputs": [
    {
     "data": {
      "text/plain": [
       "Browser #4     156833\n",
       "Browser #22    142905\n",
       "Browser #2     110737\n",
       "Browser #14     89123\n",
       "Browser #20     33929\n",
       "Browser #17     32607\n",
       "Name: browser, dtype: int64"
      ]
     },
     "execution_count": 23,
     "metadata": {},
     "output_type": "execute_result"
    }
   ],
   "source": [
    "data.browser.value_counts()"
   ]
  },
  {
   "cell_type": "code",
   "execution_count": 24,
   "metadata": {
    "collapsed": false
   },
   "outputs": [],
   "source": [
    "p_values = np.array([])\n",
    "\n",
    "for browser_id in data.browser.unique():\n",
    "    mannwhitneyutest = mannwhitneyu(data_exp[data_exp.browser == browser_id]['n_clicks'], \n",
    "                                    data_control[data_control.browser == browser_id]['n_clicks'],\n",
    "                                    alternative='two-sided')\n",
    "\n",
    "    p_values = np.append(p_values, mannwhitneyutest.pvalue)"
   ]
  },
  {
   "cell_type": "code",
   "execution_count": 25,
   "metadata": {
    "collapsed": false
   },
   "outputs": [
    {
     "data": {
      "text/plain": [
       "array([ 0.05448772,  0.81521235,  0.        ,  0.0748012 ,  0.90733313,\n",
       "        0.51481103])"
      ]
     },
     "execution_count": 25,
     "metadata": {},
     "output_type": "execute_result"
    }
   ],
   "source": [
    "p_values"
   ]
  },
  {
   "cell_type": "code",
   "execution_count": 26,
   "metadata": {
    "collapsed": true
   },
   "outputs": [],
   "source": [
    "reject, p_corrected, a1, a2 = multipletests(p_values, alpha = 0.05, method = 'holm')"
   ]
  },
  {
   "cell_type": "code",
   "execution_count": 27,
   "metadata": {
    "collapsed": false
   },
   "outputs": [
    {
     "name": "stdout",
     "output_type": "stream",
     "text": [
      "['Browser #2' 'Browser #4' 'Browser #14' 'Browser #17' 'Browser #20'\n",
      " 'Browser #22']\n",
      "[False False  True False False False]\n",
      "[ 0.2724386   1.          0.          0.29920481  1.          1.        ]\n"
     ]
    }
   ],
   "source": [
    "print data.browser.unique()\n",
    "print reject\n",
    "print p_corrected"
   ]
  },
  {
   "cell_type": "code",
   "execution_count": 28,
   "metadata": {
    "collapsed": false
   },
   "outputs": [
    {
     "name": "stdout",
     "output_type": "stream",
     "text": [
      "answer:  5\n"
     ]
    }
   ],
   "source": [
    "print \"answer: \" , len(reject[reject == False])"
   ]
  },
  {
   "cell_type": "markdown",
   "metadata": {},
   "source": [
    "### Question 7\n",
    "\n",
    "Для каждого браузера в каждой из двух групп (control и exp) посчитайте долю запросов, в которых пользователь не кликнул ни разу. Это можно сделать, поделив сумму значений n_nonclk_queries на сумму значений n_queries. Умножив это значение на 100, получим процент некликнутых запросов, который можно легче проинтерпретировать.\n",
    "\n",
    "Сходятся ли результаты проведенного Вами анализа с показателем процента некликнутых запросов ? Отметьте все верные утверждения."
   ]
  },
  {
   "cell_type": "code",
   "execution_count": 29,
   "metadata": {
    "collapsed": false
   },
   "outputs": [
    {
     "name": "stdout",
     "output_type": "stream",
     "text": [
      "Browser #2 : exp part =  44.0117905622    control part =  45.9850803231\n",
      "Browser #4 : exp part =  43.1076633978    control part =  46.8110053129\n",
      "Browser #14 : exp part =  41.9804723041    control part =  77.813433448\n",
      "Browser #17 : exp part =  29.1469665959    control part =  28.4319091823\n",
      "Browser #20 : exp part =  32.7034388832    control part =  34.7715994458\n",
      "Browser #22 : exp part =  34.4926898235    control part =  35.8566054034\n"
     ]
    }
   ],
   "source": [
    "for browser_id in data.browser.unique():\n",
    "    non_click_queries_exp = np.sum(data_exp[data_exp.browser == browser_id].n_nonclk_queries)\n",
    "    click_queries_exp = np.sum(data_exp[data_exp.browser == browser_id].n_clicks)\n",
    "    \n",
    "    non_click_queries_control = np.sum(data_control[data_control.browser == browser_id].n_nonclk_queries)\n",
    "    click_queries_control = np.sum(data_control[data_control.browser == browser_id].n_clicks)\n",
    "    \n",
    "    \n",
    "    non_click_part_exp = float(non_click_queries_exp) / click_queries_exp * 100\n",
    "    non_click_part_control = float(non_click_queries_control) / click_queries_control * 100\n",
    "    \n",
    "    print browser_id, \": exp part = \", non_click_part_exp, \"   control part = \", non_click_part_control"
   ]
  },
  {
   "cell_type": "markdown",
   "metadata": {},
   "source": [
    "* По всем браузерам мы видим незначительное уменьшение доли некликнутых запросов, поэтому делаем вывод о том, что тестируемое изменение приносит больше вреда, чем пользы. (FALSE)\n",
    "\n",
    "* По одному из браузеров мы видим значительное уменьшение доли некликнутых запросов, поэтому уже только на этом основании тестируемое изменение можно рекомендовать к применению для всех пользователей. (FALSE)\n",
    "\n",
    "* С помощью анализа, проведенного в предыдущем вопросе, мы показали, что тестируемое изменение приводит к статистически значимому отличию только для одного браузера. Для этого браузера на основе данных о доли некликнутых запросов, заключаем, что тестируемое изменение влияет на пользователей позитивно. (TRUE)\n",
    "\n",
    "* Тестируемое изменение можно предложить к внедрению только на тот сегмент пользователей, где локализуется изменение, то есть для того браузера, для которого доля некликнутых запросов уменьшилась больше всего. Для прочих браузеров мы не обладаем никакой информацией относительно влияния тестируемого изменения на поведение пользователей. (FALSE)"
   ]
  }
 ],
 "metadata": {
  "kernelspec": {
   "display_name": "Python 2",
   "language": "python",
   "name": "python2"
  },
  "language_info": {
   "codemirror_mode": {
    "name": "ipython",
    "version": 2
   },
   "file_extension": ".py",
   "mimetype": "text/x-python",
   "name": "python",
   "nbconvert_exporter": "python",
   "pygments_lexer": "ipython2",
   "version": "2.7.11"
  }
 },
 "nbformat": 4,
 "nbformat_minor": 0
}
