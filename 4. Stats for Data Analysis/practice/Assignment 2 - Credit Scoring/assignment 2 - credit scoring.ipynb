{
 "cells": [
  {
   "cell_type": "markdown",
   "metadata": {},
   "source": [
    "## Анализ данных в задаче кредитного скоринга"
   ]
  },
  {
   "cell_type": "markdown",
   "metadata": {},
   "source": [
    "Для выполнения этого задания вам понадобятся данные о кредитных историях клиентов одного из банков. Поля в предоставляемых данных имеют следующий смысл:\n",
    "\n",
    "* LIMIT_BAL: размер кредитного лимита (в том числе и на семью клиента)\n",
    "\n",
    "* SEX: пол клиента (1 = мужской, 2 = женский )\n",
    "\n",
    "* EDUCATION: образование (0 = доктор, 1 = магистр; 2 = бакалавр; 3 = выпускник школы; 4 = начальное образование; 5= прочее; 6 = нет данных ).\n",
    "\n",
    "* MARRIAGE: (0 = отказываюсь отвечать; 1 = замужем/женат; 2 = холост; 3 = нет данных).\n",
    "\n",
    "* AGE: возраст в годах\n",
    "\n",
    "* PAY_0 - PAY_6 : История прошлых платежей по кредиту. PAY_6 - платеж в апреле, ... Pay_0 - платеж в сентябре. Платеж = (0 = исправный платеж, 1=задержка в один месяц, 2=задержка в 2 месяца ...)\n",
    "\n",
    "* BILL_AMT1 - BILL_AMT6: задолженность, BILL_AMT6 - на апрель, BILL_AMT1 - на сентябрь\n",
    "\n",
    "* PAY_AMT1 - PAY_AMT6: сумма уплаченная в PAY_AMT6 - апреле, ..., PAY_AMT1 - сентябре\n",
    "\n",
    "* default - индикатор невозврата денежных средств"
   ]
  },
  {
   "cell_type": "code",
   "execution_count": 1,
   "metadata": {
    "collapsed": false
   },
   "outputs": [],
   "source": [
    "import numpy as np\n",
    "import pandas as pd\n",
    "import seaborn as sns\n",
    "import matplotlib.pyplot as plt\n",
    "from scipy import stats\n",
    "from statsmodels.iolib.table import SimpleTable\n",
    "import scipy\n",
    "%matplotlib inline"
   ]
  },
  {
   "cell_type": "code",
   "execution_count": 2,
   "metadata": {
    "collapsed": false
   },
   "outputs": [
    {
     "data": {
      "text/html": [
       "<div>\n",
       "<table border=\"1\" class=\"dataframe\">\n",
       "  <thead>\n",
       "    <tr style=\"text-align: right;\">\n",
       "      <th></th>\n",
       "      <th>ID</th>\n",
       "      <th>LIMIT_BAL</th>\n",
       "      <th>SEX</th>\n",
       "      <th>EDUCATION</th>\n",
       "      <th>MARRIAGE</th>\n",
       "      <th>AGE</th>\n",
       "      <th>PAY_0</th>\n",
       "      <th>PAY_2</th>\n",
       "      <th>PAY_3</th>\n",
       "      <th>PAY_4</th>\n",
       "      <th>...</th>\n",
       "      <th>BILL_AMT4</th>\n",
       "      <th>BILL_AMT5</th>\n",
       "      <th>BILL_AMT6</th>\n",
       "      <th>PAY_AMT1</th>\n",
       "      <th>PAY_AMT2</th>\n",
       "      <th>PAY_AMT3</th>\n",
       "      <th>PAY_AMT4</th>\n",
       "      <th>PAY_AMT5</th>\n",
       "      <th>PAY_AMT6</th>\n",
       "      <th>default</th>\n",
       "    </tr>\n",
       "  </thead>\n",
       "  <tbody>\n",
       "    <tr>\n",
       "      <th>0</th>\n",
       "      <td>1</td>\n",
       "      <td>20000</td>\n",
       "      <td>2</td>\n",
       "      <td>2</td>\n",
       "      <td>1</td>\n",
       "      <td>24</td>\n",
       "      <td>2</td>\n",
       "      <td>2</td>\n",
       "      <td>0</td>\n",
       "      <td>0</td>\n",
       "      <td>...</td>\n",
       "      <td>0</td>\n",
       "      <td>0</td>\n",
       "      <td>0</td>\n",
       "      <td>0</td>\n",
       "      <td>689</td>\n",
       "      <td>0</td>\n",
       "      <td>0</td>\n",
       "      <td>0</td>\n",
       "      <td>0</td>\n",
       "      <td>1</td>\n",
       "    </tr>\n",
       "    <tr>\n",
       "      <th>1</th>\n",
       "      <td>2</td>\n",
       "      <td>120000</td>\n",
       "      <td>2</td>\n",
       "      <td>2</td>\n",
       "      <td>2</td>\n",
       "      <td>26</td>\n",
       "      <td>0</td>\n",
       "      <td>2</td>\n",
       "      <td>0</td>\n",
       "      <td>0</td>\n",
       "      <td>...</td>\n",
       "      <td>3272</td>\n",
       "      <td>3455</td>\n",
       "      <td>3261</td>\n",
       "      <td>0</td>\n",
       "      <td>1000</td>\n",
       "      <td>1000</td>\n",
       "      <td>1000</td>\n",
       "      <td>0</td>\n",
       "      <td>2000</td>\n",
       "      <td>1</td>\n",
       "    </tr>\n",
       "    <tr>\n",
       "      <th>2</th>\n",
       "      <td>3</td>\n",
       "      <td>90000</td>\n",
       "      <td>2</td>\n",
       "      <td>2</td>\n",
       "      <td>2</td>\n",
       "      <td>34</td>\n",
       "      <td>0</td>\n",
       "      <td>0</td>\n",
       "      <td>0</td>\n",
       "      <td>0</td>\n",
       "      <td>...</td>\n",
       "      <td>14331</td>\n",
       "      <td>14948</td>\n",
       "      <td>15549</td>\n",
       "      <td>1518</td>\n",
       "      <td>1500</td>\n",
       "      <td>1000</td>\n",
       "      <td>1000</td>\n",
       "      <td>1000</td>\n",
       "      <td>5000</td>\n",
       "      <td>0</td>\n",
       "    </tr>\n",
       "    <tr>\n",
       "      <th>3</th>\n",
       "      <td>4</td>\n",
       "      <td>50000</td>\n",
       "      <td>2</td>\n",
       "      <td>2</td>\n",
       "      <td>1</td>\n",
       "      <td>37</td>\n",
       "      <td>0</td>\n",
       "      <td>0</td>\n",
       "      <td>0</td>\n",
       "      <td>0</td>\n",
       "      <td>...</td>\n",
       "      <td>28314</td>\n",
       "      <td>28959</td>\n",
       "      <td>29547</td>\n",
       "      <td>2000</td>\n",
       "      <td>2019</td>\n",
       "      <td>1200</td>\n",
       "      <td>1100</td>\n",
       "      <td>1069</td>\n",
       "      <td>1000</td>\n",
       "      <td>0</td>\n",
       "    </tr>\n",
       "    <tr>\n",
       "      <th>4</th>\n",
       "      <td>5</td>\n",
       "      <td>50000</td>\n",
       "      <td>1</td>\n",
       "      <td>2</td>\n",
       "      <td>1</td>\n",
       "      <td>57</td>\n",
       "      <td>0</td>\n",
       "      <td>0</td>\n",
       "      <td>0</td>\n",
       "      <td>0</td>\n",
       "      <td>...</td>\n",
       "      <td>20940</td>\n",
       "      <td>19146</td>\n",
       "      <td>19131</td>\n",
       "      <td>2000</td>\n",
       "      <td>36681</td>\n",
       "      <td>10000</td>\n",
       "      <td>9000</td>\n",
       "      <td>689</td>\n",
       "      <td>679</td>\n",
       "      <td>0</td>\n",
       "    </tr>\n",
       "  </tbody>\n",
       "</table>\n",
       "<p>5 rows × 25 columns</p>\n",
       "</div>"
      ],
      "text/plain": [
       "   ID  LIMIT_BAL  SEX  EDUCATION  MARRIAGE  AGE  PAY_0  PAY_2  PAY_3  PAY_4  \\\n",
       "0   1      20000    2          2         1   24      2      2      0      0   \n",
       "1   2     120000    2          2         2   26      0      2      0      0   \n",
       "2   3      90000    2          2         2   34      0      0      0      0   \n",
       "3   4      50000    2          2         1   37      0      0      0      0   \n",
       "4   5      50000    1          2         1   57      0      0      0      0   \n",
       "\n",
       "    ...     BILL_AMT4  BILL_AMT5  BILL_AMT6  PAY_AMT1  PAY_AMT2  PAY_AMT3  \\\n",
       "0   ...             0          0          0         0       689         0   \n",
       "1   ...          3272       3455       3261         0      1000      1000   \n",
       "2   ...         14331      14948      15549      1518      1500      1000   \n",
       "3   ...         28314      28959      29547      2000      2019      1200   \n",
       "4   ...         20940      19146      19131      2000     36681     10000   \n",
       "\n",
       "   PAY_AMT4  PAY_AMT5  PAY_AMT6  default  \n",
       "0         0         0         0        1  \n",
       "1      1000         0      2000        1  \n",
       "2      1000      1000      5000        0  \n",
       "3      1100      1069      1000        0  \n",
       "4      9000       689       679        0  \n",
       "\n",
       "[5 rows x 25 columns]"
      ]
     },
     "execution_count": 2,
     "metadata": {},
     "output_type": "execute_result"
    }
   ],
   "source": [
    "data = pd.read_csv('credit_card_default_analysis.csv', sep=',')\n",
    "data.head()"
   ]
  },
  {
   "cell_type": "code",
   "execution_count": 3,
   "metadata": {
    "collapsed": false
   },
   "outputs": [
    {
     "data": {
      "text/html": [
       "<div>\n",
       "<table border=\"1\" class=\"dataframe\">\n",
       "  <thead>\n",
       "    <tr style=\"text-align: right;\">\n",
       "      <th></th>\n",
       "      <th>LIMIT_BAL</th>\n",
       "      <th>SEX</th>\n",
       "      <th>EDUCATION</th>\n",
       "      <th>MARRIAGE</th>\n",
       "      <th>AGE</th>\n",
       "      <th>default</th>\n",
       "    </tr>\n",
       "  </thead>\n",
       "  <tbody>\n",
       "    <tr>\n",
       "      <th>count</th>\n",
       "      <td>30000.000000</td>\n",
       "      <td>30000.000000</td>\n",
       "      <td>30000.000000</td>\n",
       "      <td>30000.000000</td>\n",
       "      <td>30000.000000</td>\n",
       "      <td>30000.000000</td>\n",
       "    </tr>\n",
       "    <tr>\n",
       "      <th>mean</th>\n",
       "      <td>167484.322667</td>\n",
       "      <td>1.603733</td>\n",
       "      <td>1.853133</td>\n",
       "      <td>1.551867</td>\n",
       "      <td>35.485500</td>\n",
       "      <td>0.221200</td>\n",
       "    </tr>\n",
       "    <tr>\n",
       "      <th>std</th>\n",
       "      <td>129747.661567</td>\n",
       "      <td>0.489129</td>\n",
       "      <td>0.790349</td>\n",
       "      <td>0.521970</td>\n",
       "      <td>9.217904</td>\n",
       "      <td>0.415062</td>\n",
       "    </tr>\n",
       "    <tr>\n",
       "      <th>min</th>\n",
       "      <td>10000.000000</td>\n",
       "      <td>1.000000</td>\n",
       "      <td>0.000000</td>\n",
       "      <td>0.000000</td>\n",
       "      <td>21.000000</td>\n",
       "      <td>0.000000</td>\n",
       "    </tr>\n",
       "    <tr>\n",
       "      <th>25%</th>\n",
       "      <td>50000.000000</td>\n",
       "      <td>1.000000</td>\n",
       "      <td>1.000000</td>\n",
       "      <td>1.000000</td>\n",
       "      <td>28.000000</td>\n",
       "      <td>0.000000</td>\n",
       "    </tr>\n",
       "    <tr>\n",
       "      <th>50%</th>\n",
       "      <td>140000.000000</td>\n",
       "      <td>2.000000</td>\n",
       "      <td>2.000000</td>\n",
       "      <td>2.000000</td>\n",
       "      <td>34.000000</td>\n",
       "      <td>0.000000</td>\n",
       "    </tr>\n",
       "    <tr>\n",
       "      <th>75%</th>\n",
       "      <td>240000.000000</td>\n",
       "      <td>2.000000</td>\n",
       "      <td>2.000000</td>\n",
       "      <td>2.000000</td>\n",
       "      <td>41.000000</td>\n",
       "      <td>0.000000</td>\n",
       "    </tr>\n",
       "    <tr>\n",
       "      <th>max</th>\n",
       "      <td>1000000.000000</td>\n",
       "      <td>2.000000</td>\n",
       "      <td>6.000000</td>\n",
       "      <td>3.000000</td>\n",
       "      <td>79.000000</td>\n",
       "      <td>1.000000</td>\n",
       "    </tr>\n",
       "  </tbody>\n",
       "</table>\n",
       "</div>"
      ],
      "text/plain": [
       "            LIMIT_BAL           SEX     EDUCATION      MARRIAGE           AGE  \\\n",
       "count    30000.000000  30000.000000  30000.000000  30000.000000  30000.000000   \n",
       "mean    167484.322667      1.603733      1.853133      1.551867     35.485500   \n",
       "std     129747.661567      0.489129      0.790349      0.521970      9.217904   \n",
       "min      10000.000000      1.000000      0.000000      0.000000     21.000000   \n",
       "25%      50000.000000      1.000000      1.000000      1.000000     28.000000   \n",
       "50%     140000.000000      2.000000      2.000000      2.000000     34.000000   \n",
       "75%     240000.000000      2.000000      2.000000      2.000000     41.000000   \n",
       "max    1000000.000000      2.000000      6.000000      3.000000     79.000000   \n",
       "\n",
       "            default  \n",
       "count  30000.000000  \n",
       "mean       0.221200  \n",
       "std        0.415062  \n",
       "min        0.000000  \n",
       "25%        0.000000  \n",
       "50%        0.000000  \n",
       "75%        0.000000  \n",
       "max        1.000000  "
      ]
     },
     "execution_count": 3,
     "metadata": {},
     "output_type": "execute_result"
    }
   ],
   "source": [
    "data = data[['LIMIT_BAL', 'SEX', 'EDUCATION', 'MARRIAGE', 'AGE', 'default']]\n",
    "data.describe()"
   ]
  },
  {
   "cell_type": "code",
   "execution_count": 4,
   "metadata": {
    "collapsed": false
   },
   "outputs": [
    {
     "data": {
      "text/plain": [
       "0    23364\n",
       "1     6636\n",
       "Name: default, dtype: int64"
      ]
     },
     "execution_count": 4,
     "metadata": {},
     "output_type": "execute_result"
    }
   ],
   "source": [
    "data.default.value_counts()"
   ]
  },
  {
   "cell_type": "code",
   "execution_count": 5,
   "metadata": {
    "collapsed": false
   },
   "outputs": [],
   "source": [
    "data_payment = data[data.default == 0]\n",
    "data_nonpayment = data[data.default == 1]"
   ]
  },
  {
   "cell_type": "markdown",
   "metadata": {},
   "source": [
    "### Пункт 1\n",
    "\n",
    "Размер кредитного лимита (LIMIT_BAL). В двух группах, тех людей, кто вернул кредит (default = 0) и тех, кто его не вернул (default = 1) проверьте гипотезы: a) о равенстве медианных значений кредитного лимита с помощью подходящей интервальной оценки b) о равенстве распределений с помощью одного из подходящих непараметрических критериев проверки равенства средних. Значимы ли полученные результаты с практической точки зрения ?"
   ]
  },
  {
   "cell_type": "code",
   "execution_count": 6,
   "metadata": {
    "collapsed": false,
    "scrolled": false
   },
   "outputs": [
    {
     "data": {
      "image/png": "[encoded data removed]",
      "text/plain": [
       "<matplotlib.figure.Figure at 0xa801908>"
      ]
     },
     "metadata": {},
     "output_type": "display_data"
    }
   ],
   "source": [
    "plt.figure(figsize = (18, 8))\n",
    "plt.subplot(1, 2, 1)\n",
    "plt.hist(data_payment.LIMIT_BAL, color='g', bins=25, label='payment')\n",
    "plt.hist(data_nonpayment.LIMIT_BAL, color='r', bins=25, label='non-payment')\n",
    "plt.legend()\n",
    "plt.xlabel('LIMIT_BAL', fontsize = 14)\n",
    "plt.xticks(xrange(data.LIMIT_BAL.min(), data.LIMIT_BAL.max(), 50000), rotation='vertical')\n",
    "\n",
    "plt.subplot(1, 2, 2)\n",
    "data_payment.LIMIT_BAL.plot(kind='density', color='g', label='payment')\n",
    "data_nonpayment.LIMIT_BAL.plot(kind='density', color='r', label='non-payment')\n",
    "plt.legend()\n",
    "plt.xlabel('LIMIT_BAL', fontsize = 14)\n",
    "plt.xticks(xrange(data.LIMIT_BAL.min(), data.LIMIT_BAL.max(), 50000), rotation='vertical')\n",
    "plt.xlim(data.LIMIT_BAL.min(), data.LIMIT_BAL.max())\n",
    "plt.show()"
   ]
  },
  {
   "cell_type": "markdown",
   "metadata": {},
   "source": [
    "По графику видно, что распределения размера кредитного лимита несимметричные, скошенные. Распределение людей, вернувших долг, имеет более тяжелый правый хвост. Скорее всего кредитный лимит среди невыплативших людей лимит меньше, чем у людей, которые вернули кредит. \n",
    "\n",
    "a) Проверим равенство медианных значений кредитного лимита с помощью бутстрепа. "
   ]
  },
  {
   "cell_type": "code",
   "execution_count": 7,
   "metadata": {
    "collapsed": true
   },
   "outputs": [],
   "source": [
    "def get_bootstrap_samples(data, n_samples):\n",
    "    indices = np.random.randint(0, len(data), (n_samples, len(data)))\n",
    "    samples = data[indices]\n",
    "    return samples"
   ]
  },
  {
   "cell_type": "code",
   "execution_count": 8,
   "metadata": {
    "collapsed": true
   },
   "outputs": [],
   "source": [
    "def stat_intervals(stat, alpha):\n",
    "    boundaries = np.percentile(stat, [100 * alpha / 2., 100 * (1 - alpha / 2.)])\n",
    "    return boundaries"
   ]
  },
  {
   "cell_type": "code",
   "execution_count": 9,
   "metadata": {
    "collapsed": true
   },
   "outputs": [],
   "source": [
    "payment_median_scores = map(np.median, get_bootstrap_samples(data_payment.LIMIT_BAL.values, 1000))\n",
    "non_payment_median_scores = map(np.median, get_bootstrap_samples(data_nonpayment.LIMIT_BAL.values, 1000))"
   ]
  },
  {
   "cell_type": "markdown",
   "metadata": {},
   "source": [
    "Интервальные оценки медиан:"
   ]
  },
  {
   "cell_type": "code",
   "execution_count": 10,
   "metadata": {
    "collapsed": false
   },
   "outputs": [
    {
     "name": "stdout",
     "output_type": "stream",
     "text": [
      "95% confidence interval for the LIMIT_BAL (default = 0) median: [ 150000.  150000.]\n",
      "95% confidence interval for the LIMIT_BAL (default = 1) median: [ 80000.  90000.]\n"
     ]
    }
   ],
   "source": [
    "print \"95% confidence interval for the LIMIT_BAL (default = 0) median:\",  stat_intervals(payment_median_scores, 0.05)\n",
    "print \"95% confidence interval for the LIMIT_BAL (default = 1) median:\",  stat_intervals(non_payment_median_scores, 0.05)"
   ]
  },
  {
   "cell_type": "markdown",
   "metadata": {},
   "source": [
    "Интервальная оценка разности медиан:"
   ]
  },
  {
   "cell_type": "code",
   "execution_count": 11,
   "metadata": {
    "collapsed": false
   },
   "outputs": [
    {
     "name": "stdout",
     "output_type": "stream",
     "text": [
      "95% confidence interval for the difference between LIMIT_BAL medians: [ 60000.  70000.]\n"
     ]
    }
   ],
   "source": [
    "delta_median_scores = np.array(payment_median_scores) - np.array(non_payment_median_scores)\n",
    "print \"95% confidence interval for the difference between LIMIT_BAL medians:\",  stat_intervals(delta_median_scores, 0.05)"
   ]
  },
  {
   "cell_type": "markdown",
   "metadata": {},
   "source": [
    "Интервальные оценки медиан не пересекаются, кроме того интервальная оценка для разности медиан не содержит нуля. Таким образом медианы для двух выборок выплативших и неплативших долг отличаются: для первой выборки она больше. \n",
    "\n",
    "Отличие в 60000-70000 единиц скорее всего имеет практическое значение. "
   ]
  },
  {
   "cell_type": "markdown",
   "metadata": {},
   "source": [
    "b) Проверим гипотезу о равенстве распределений с помощью непараметрического перестановочного критерия для двух выборок. \n",
    "\n",
    "$H_0\\colon F_{X_1}(x) = F_{X_2}(x)$\n",
    "\n",
    "$H_1\\colon F_{X_1}(x) = F_{X_2}(x + \\Delta), \\Delta\\neq 0$ - если справедлива альтернативная гипотеза и между распределениями есть сдвиг, то средние значения выборок будут отличаться.\n",
    "\n",
    "Наши выборки независимые. "
   ]
  },
  {
   "cell_type": "code",
   "execution_count": 12,
   "metadata": {
    "collapsed": true
   },
   "outputs": [],
   "source": [
    "# T-статистика\n",
    "def permutation_t_stat_ind(sample1, sample2):\n",
    "    return np.mean(sample1) - np.mean(sample2)"
   ]
  },
  {
   "cell_type": "code",
   "execution_count": 13,
   "metadata": {
    "collapsed": true
   },
   "outputs": [],
   "source": [
    "def get_random_combinations(n1, n2, max_combinations):\n",
    "    index = range(n1 + n2)\n",
    "    indices = set([tuple(index)])\n",
    "    for i in range(max_combinations - 1):\n",
    "        np.random.shuffle(index)\n",
    "        indices.add(tuple(index))\n",
    "    return [(index[:n1], index[n1:]) for index in indices]"
   ]
  },
  {
   "cell_type": "code",
   "execution_count": 14,
   "metadata": {
    "collapsed": true
   },
   "outputs": [],
   "source": [
    "# Нулевое распределение\n",
    "def permutation_zero_dist_ind(sample1, sample2, max_combinations = None):\n",
    "    joined_sample = np.hstack((sample1, sample2))\n",
    "    n1 = len(sample1)\n",
    "    n = len(joined_sample)\n",
    "    \n",
    "    if max_combinations:\n",
    "        indices = get_random_combinations(n1, len(sample2), max_combinations)\n",
    "    else:\n",
    "        indices = [(list(index), filter(lambda i: i not in index, range(n))) \\\n",
    "                    for index in itertools.combinations(range(n), n1)]\n",
    "    \n",
    "    distr = [joined_sample[list(i[0])].mean() - joined_sample[list(i[1])].mean() \\\n",
    "             for i in indices]\n",
    "    return distr"
   ]
  },
  {
   "cell_type": "code",
   "execution_count": 15,
   "metadata": {
    "collapsed": true
   },
   "outputs": [],
   "source": [
    "# p-value\n",
    "def permutation_test(sample1, sample2, max_permutations = None, alternative = 'two-sided'):\n",
    "    if alternative not in ('two-sided', 'less', 'greater'):\n",
    "        raise ValueError(\"alternative not recognized\\n\"\n",
    "                         \"should be 'two-sided', 'less' or 'greater'\")\n",
    "    \n",
    "    t_stat = permutation_t_stat_ind(sample1, sample2)\n",
    "    \n",
    "    zero_distr = permutation_zero_dist_ind(sample1, sample2, max_permutations)\n",
    "    \n",
    "    if alternative == 'two-sided':\n",
    "        return sum([1. if abs(x) >= abs(t_stat) else 0. for x in zero_distr]) / len(zero_distr)\n",
    "    \n",
    "    if alternative == 'less':\n",
    "        return sum([1. if x <= t_stat else 0. for x in zero_distr]) / len(zero_distr)\n",
    "\n",
    "    if alternative == 'greater':\n",
    "        return sum([1. if x >= t_stat else 0. for x in zero_distr]) / len(zero_distr)"
   ]
  },
  {
   "cell_type": "code",
   "execution_count": 16,
   "metadata": {
    "collapsed": false
   },
   "outputs": [
    {
     "name": "stdout",
     "output_type": "stream",
     "text": [
      "p-value: 0.000100\n"
     ]
    }
   ],
   "source": [
    "print \"p-value: %f\" % permutation_test(data_payment.LIMIT_BAL.values, data_nonpayment.LIMIT_BAL.values, max_permutations=10000)"
   ]
  },
  {
   "cell_type": "markdown",
   "metadata": {},
   "source": [
    "Таким образом, нулевая гипотеза о равенстве средних отвергается на уровне значимости $\\alpha = 0.05$ и распределения статистически значимо различаются. "
   ]
  },
  {
   "cell_type": "markdown",
   "metadata": {},
   "source": [
    "### Пункт 2\n",
    "\n",
    "Пол (SEX): Проверьте гипотезу о том, что гендерный состав группы людей вернувших и не вернувших кредит отличается. Хорошо, если вы предоставите несколько различных решений этой задачи (с помощью доверительного интервала и подходящего статистического критерия)"
   ]
  },
  {
   "cell_type": "code",
   "execution_count": 17,
   "metadata": {
    "collapsed": true
   },
   "outputs": [],
   "source": [
    "data_man = data[data.SEX == 1]\n",
    "data_woman = data[data.SEX == 2]"
   ]
  },
  {
   "cell_type": "code",
   "execution_count": 18,
   "metadata": {
    "collapsed": false
   },
   "outputs": [
    {
     "data": {
      "image/png": "[encoded data removed]",
      "text/plain": [
       "<matplotlib.figure.Figure at 0xce3e080>"
      ]
     },
     "metadata": {},
     "output_type": "display_data"
    }
   ],
   "source": [
    "sns.set(style='ticks')\n",
    "\n",
    "g = sns.countplot(x=['man' if x == 1 else 'woman' for x in data.SEX], hue=data.default, \n",
    "                  palette = sns.color_palette(['g', 'r']))\n",
    "\n",
    "sns.despine()\n",
    "g.axes.set_title('Sex - default', fontsize=14)\n",
    "g.set_xlabel('SEX', size=14)\n",
    "g.set_ylabel('Count', size=14)\n",
    "g.tick_params(labelsize=12, labelcolor='black')"
   ]
  },
  {
   "cell_type": "markdown",
   "metadata": {},
   "source": [
    "Судя по графику, среди невыплативших доля женщин и мужчин отличается незначительно, в то время как среди выплативших кредит доля женщин больше. \n",
    "\n",
    "Построим таблицу сопряженности для пола и признаком дефолта. "
   ]
  },
  {
   "cell_type": "code",
   "execution_count": 19,
   "metadata": {
    "collapsed": false
   },
   "outputs": [
    {
     "data": {
      "text/html": [
       "<table class=\"simpletable\">\n",
       "<tr>\n",
       "       <td></td>        <th>man</th> <th>woman</th>\n",
       "</tr>\n",
       "<tr>\n",
       "  <th>payment</th>     <td>9015</td> <td>14349</td>\n",
       "</tr>\n",
       "<tr>\n",
       "  <th>non-payment</th> <td>2873</td> <td>3763</td> \n",
       "</tr>\n",
       "</table>"
      ],
      "text/plain": [
       "<class 'statsmodels.iolib.table.SimpleTable'>"
      ]
     },
     "execution_count": 19,
     "metadata": {},
     "output_type": "execute_result"
    }
   ],
   "source": [
    "man0, man1 = len(data_man[data_man.default == 0]), len(data_man[data_man.default == 1])\n",
    "woman0, woman1 = len(data_woman[data_woman.default == 0]), len(data_woman[data_woman.default == 1])\n",
    "n1 = man0 + woman0\n",
    "n2 = man1 + woman1\n",
    "\n",
    "SimpleTable(([man0, woman0], \n",
    "             [man1, woman1]), \n",
    "             headers=['man', 'woman'], stubs=['payment', 'non-payment'])"
   ]
  },
  {
   "cell_type": "markdown",
   "metadata": {},
   "source": [
    "$H_0\\colon$ Доли невернувших кредит среди мужчин и женщин не отличаются\n",
    "\n",
    "$H_1\\colon$ отличаются (двухсторонняя альтернатива)\n",
    "\n",
    "**1 вариант:** Построим доверительный интервал для разности долей должников в двух выборках. \n",
    "\n",
    "Распределения выборок бинарные, выборки независимые. "
   ]
  },
  {
   "cell_type": "code",
   "execution_count": 20,
   "metadata": {
    "collapsed": false
   },
   "outputs": [],
   "source": [
    "# Доверительный интервал\n",
    "def proportions_diff_confint_ind(sample1, sample2, label, alpha = 0.05):    \n",
    "    z = scipy.stats.norm.ppf(1 - alpha / 2.)\n",
    "    \n",
    "    p1 = float(len(sample1[sample1 == label])) / len(sample1)\n",
    "    p2 = float(len(sample2[sample2 == label])) / len(sample2)\n",
    "    \n",
    "    left_boundary = (p1 - p2) - z * np.sqrt(p1 * (1 - p1)/ len(sample1) + p2 * (1 - p2)/ len(sample2))\n",
    "    right_boundary = (p1 - p2) + z * np.sqrt(p1 * (1 - p1)/ len(sample1) + p2 * (1 - p2)/ len(sample2))\n",
    "    \n",
    "    return (left_boundary, right_boundary)"
   ]
  },
  {
   "cell_type": "code",
   "execution_count": 21,
   "metadata": {
    "collapsed": false
   },
   "outputs": [
    {
     "name": "stdout",
     "output_type": "stream",
     "text": [
      "95% confidence interval for a difference between proportions in the SEX variable: [0.024207, 0.043612]\n"
     ]
    }
   ],
   "source": [
    "print \"95%% confidence interval for a difference between proportions in the SEX variable: [%f, %f]\" %\\\n",
    "    proportions_diff_confint_ind(data_man.default, data_woman.default, label=1, alpha=0.05)"
   ]
  },
  {
   "cell_type": "markdown",
   "metadata": {},
   "source": [
    "Полученный доверительный интервал лежит правее нуля, таким образом, на уровне значимости $\\alpha = 0.05$ нулевая гипотеза отвергается. Доля должников среди мужчин больше. "
   ]
  },
  {
   "cell_type": "markdown",
   "metadata": {},
   "source": [
    "**2 вариант:** Для проверки также будем использовать Z-критерий для доли для двух независимых выборок. \n",
    "\n",
    "Наши выборки из распределения Бернулли и независимые. "
   ]
  },
  {
   "cell_type": "code",
   "execution_count": 22,
   "metadata": {
    "collapsed": false
   },
   "outputs": [],
   "source": [
    "# Статистика\n",
    "def proportions_diff_z_stat_ind(sample1, sample2, label):\n",
    "    n1 = len(sample1)\n",
    "    n2 = len(sample2)\n",
    "    \n",
    "    p1 = float(len(sample1[sample1 == label])) / n1\n",
    "    p2 = float(len(sample2[sample2 == label])) / n2 \n",
    "    P = float(p1*n1 + p2*n2) / (n1 + n2)\n",
    "    \n",
    "    return (p1 - p2) / np.sqrt(P * (1 - P) * (1. / n1 + 1. / n2))"
   ]
  },
  {
   "cell_type": "code",
   "execution_count": 23,
   "metadata": {
    "collapsed": true
   },
   "outputs": [],
   "source": [
    "# P-value\n",
    "def proportions_diff_z_test(z_stat, alternative = 'two-sided'):\n",
    "    if alternative not in ('two-sided', 'less', 'greater'):\n",
    "        raise ValueError(\"alternative not recognized\\n\"\n",
    "                         \"should be 'two-sided', 'less' or 'greater'\")\n",
    "    \n",
    "    if alternative == 'two-sided':\n",
    "        return 2 * (1 - scipy.stats.norm.cdf(np.abs(z_stat)))\n",
    "    \n",
    "    if alternative == 'less':\n",
    "        return scipy.stats.norm.cdf(z_stat)\n",
    "\n",
    "    if alternative == 'greater':\n",
    "        return 1 - scipy.stats.norm.cdf(z_stat)"
   ]
  },
  {
   "cell_type": "code",
   "execution_count": 24,
   "metadata": {
    "collapsed": false
   },
   "outputs": [
    {
     "name": "stdout",
     "output_type": "stream",
     "text": [
      "z-stat:  6.92137508856\n",
      "p-value:  4.47286652161e-12\n"
     ]
    }
   ],
   "source": [
    "z_stat = proportions_diff_z_stat_ind(data_man.default, data_woman.default, label = 1)\n",
    "p_value = proportions_diff_z_test(z_stat)\n",
    "\n",
    "print \"z-stat: \", z_stat\n",
    "print \"p-value: \", p_value"
   ]
  },
  {
   "cell_type": "markdown",
   "metadata": {},
   "source": [
    "Значение p-value меньше 0.05, значит можно снова уверенно отклонить нулевую гипотезу."
   ]
  },
  {
   "cell_type": "markdown",
   "metadata": {},
   "source": [
    "### Пункт 3\n",
    "\n",
    "Образование (EDUCATION): Проверьте гипотезу о том, что образование не влияет на то, вернет ли человек долг. Предложите способ наглядного представления разницы в ожидаемых и наблюдаемых значениях количества человек вернувших и не вернувших долг. Например, составьте таблицу сопряженности \"образование\" на \"возврат долга\", где значением ячейки была бы разность между наблюдаемым и ожидаемым количеством человек. Как бы вы предложили модифицировать таблицу так, чтобы привести значения ячеек к одному масштабу не потеряв в интерпретируемости ? Наличие какого образования является наилучшим индикатором того, что человек отдаст долг ? наоборт, не отдаст долг ?"
   ]
  },
  {
   "cell_type": "code",
   "execution_count": 25,
   "metadata": {
    "collapsed": false
   },
   "outputs": [
    {
     "data": {
      "image/png": "[encoded data removed]",
      "text/plain": [
       "<matplotlib.figure.Figure at 0xcf5e898>"
      ]
     },
     "metadata": {},
     "output_type": "display_data"
    }
   ],
   "source": [
    "sns.set(style='ticks')\n",
    "\n",
    "g = sns.countplot(x=data.EDUCATION, hue=data.default, palette = sns.color_palette(['g', 'r']))\n",
    "sns.despine()\n",
    "g.figure.set_size_inches(12,8)\n",
    "g.axes.set_title('Education - default', fontsize=14)\n",
    "g.set_xlabel('EDUCATION', size=14)\n",
    "g.set_ylabel('Count', size=14)\n",
    "g.tick_params(labelsize=12, labelcolor='black')"
   ]
  },
  {
   "cell_type": "markdown",
   "metadata": {},
   "source": [
    "Будем анализировать влияние переменной EDUCATION на фактор дефолта с помощью критерия Пирсона. С помощью этого метода оценим статистическую значимость различий двух показателей.\n",
    "\n",
    "Составим таблицу сопряженности для категориальных признаков EDUCATION и default."
   ]
  },
  {
   "cell_type": "code",
   "execution_count": 26,
   "metadata": {
    "collapsed": true
   },
   "outputs": [],
   "source": [
    "observed_payment = np.bincount(data_payment.EDUCATION)\n",
    "observed_nonpayment = np.bincount(data_nonpayment.EDUCATION)\n",
    "observed_frequences = np.vstack((observed_payment, observed_nonpayment))"
   ]
  },
  {
   "cell_type": "code",
   "execution_count": 27,
   "metadata": {
    "collapsed": false
   },
   "outputs": [],
   "source": [
    "chi2, p, ddof, expected_frequences = stats.chi2_contingency(observed_frequences, correction=False)"
   ]
  },
  {
   "cell_type": "markdown",
   "metadata": {},
   "source": [
    "Таблица сопряженности \"EDUCATION\" на \"default\" для наблюдаемых частот: "
   ]
  },
  {
   "cell_type": "code",
   "execution_count": 28,
   "metadata": {
    "collapsed": false
   },
   "outputs": [
    {
     "data": {
      "text/html": [
       "<table class=\"simpletable\">\n",
       "<caption>Contingency table, observed frequences</caption>\n",
       "<tr>\n",
       "       <td></td>       <th>Doctor</th> <th>Master</th> <th>Bachelor</th> <th>School grade</th> <th> Elementary</th> <th>Other</th> <th>NA</th>\n",
       "</tr>\n",
       "<tr>\n",
       "  <th>payment</th>       <td>14</td>    <td>8549</td>    <td>10700</td>      <td>3680</td>         <td>116</td>      <td>262</td>  <td>43</td>\n",
       "</tr>\n",
       "<tr>\n",
       "  <th>non-payment</th>    <td>0</td>    <td>2036</td>    <td>3330</td>       <td>1237</td>          <td>7</td>       <td>18</td>    <td>8</td>\n",
       "</tr>\n",
       "</table>"
      ],
      "text/plain": [
       "<class 'statsmodels.iolib.table.SimpleTable'>"
      ]
     },
     "execution_count": 28,
     "metadata": {},
     "output_type": "execute_result"
    }
   ],
   "source": [
    "SimpleTable((observed_frequences[0, :], observed_frequences[1, :]), \n",
    "             headers = [\"Doctor\", \"Master\", \"Bachelor\", \"School grade\",\" Elementary\", \"Other\", \"NA\"], \n",
    "             stubs=['payment', 'non-payment'], \n",
    "             title = 'Contingency table, observed frequences')"
   ]
  },
  {
   "cell_type": "markdown",
   "metadata": {},
   "source": [
    "Таблица сопряженности \"EDUCATION\" на \"default\" для ожидаемых частот: "
   ]
  },
  {
   "cell_type": "code",
   "execution_count": 29,
   "metadata": {
    "collapsed": false
   },
   "outputs": [
    {
     "data": {
      "text/html": [
       "<table class=\"simpletable\">\n",
       "<caption>Contingency table, expected frequences</caption>\n",
       "<tr>\n",
       "       <td></td>       <th>Doctor</th>   <th>Master</th>  <th>Bachelor</th>  <th>School grade</th> <th> Elementary</th>  <th>Other</th>    <th>NA</th>   \n",
       "</tr>\n",
       "<tr>\n",
       "  <th>payment</th>     <td>10.9032</td> <td>8243.598</td> <td>10926.564</td>   <td>3829.3596</td>    <td>95.7924</td>   <td>218.064</td> <td>39.7188</td>\n",
       "</tr>\n",
       "<tr>\n",
       "  <th>non-payment</th> <td>3.0968</td>  <td>2341.402</td> <td>3103.436</td>    <td>1087.6404</td>    <td>27.2076</td>   <td>61.936</td>  <td>11.2812</td>\n",
       "</tr>\n",
       "</table>"
      ],
      "text/plain": [
       "<class 'statsmodels.iolib.table.SimpleTable'>"
      ]
     },
     "execution_count": 29,
     "metadata": {},
     "output_type": "execute_result"
    }
   ],
   "source": [
    "SimpleTable((expected_frequences[0, :], expected_frequences[1, :]), \n",
    "             headers = [\"Doctor\", \"Master\", \"Bachelor\", \"School grade\",\" Elementary\", \"Other\", \"NA\"], \n",
    "             stubs=['payment', 'non-payment'], \n",
    "             title = 'Contingency table, expected frequences')"
   ]
  },
  {
   "cell_type": "markdown",
   "metadata": {},
   "source": [
    "Проверим условия применимости критерия хи-квадрат для таблиц сопряженности: \n",
    "\n",
    "* необходимо, чтобы выборки были достаточно большими: n >= 40 - очевидно, что выполняется\n",
    "\n",
    "* необходимо, чтобы ожидаемое количество элементов в каждой ячейке таблицы было меньше 5 не более, чем в 20% ячеек"
   ]
  },
  {
   "cell_type": "code",
   "execution_count": 30,
   "metadata": {
    "collapsed": false
   },
   "outputs": [
    {
     "data": {
      "text/plain": [
       "1"
      ]
     },
     "execution_count": 30,
     "metadata": {},
     "output_type": "execute_result"
    }
   ],
   "source": [
    "np.sum(expected_frequences < 5)"
   ]
  },
  {
   "cell_type": "markdown",
   "metadata": {},
   "source": [
    "$H_0\\colon$ признаки EDUCATION и default независимы\n",
    "\n",
    "$H_1\\colon$ нулевая гипотеза неверна"
   ]
  },
  {
   "cell_type": "code",
   "execution_count": 31,
   "metadata": {
    "collapsed": false
   },
   "outputs": [
    {
     "name": "stdout",
     "output_type": "stream",
     "text": [
      "chi2:  163.21655787\n",
      "p-value 1.23326262454e-32\n"
     ]
    }
   ],
   "source": [
    "print \"chi2: \",  chi2\n",
    "print \"p-value\", p"
   ]
  },
  {
   "cell_type": "markdown",
   "metadata": {},
   "source": [
    "Достигаемый уровень значимости p-value < 0.05, следовательно нулевая гипотеза о независимости рассматриваемых переменных отклоняется (EDUCATION и default), т.е. между переменными имеется статистическая связь.\n",
    "\n",
    "Посмотрим на таблицу с разностями между наблюдаемыми и ожидаемыми частотами: "
   ]
  },
  {
   "cell_type": "code",
   "execution_count": 32,
   "metadata": {
    "collapsed": false
   },
   "outputs": [
    {
     "data": {
      "text/html": [
       "<table class=\"simpletable\">\n",
       "<caption>Contingency table, difference between observed and expected frequences</caption>\n",
       "<tr>\n",
       "       <td></td>       <th>Doctor</th>   <th>Master</th>  <th>Bachelor</th> <th>School grade</th> <th> Elementary</th>  <th>Other</th>    <th>NA</th>   \n",
       "</tr>\n",
       "<tr>\n",
       "  <th>payment</th>     <td>3.0968</td>   <td>305.402</td> <td>-226.564</td>   <td>-149.3596</td>    <td>20.2076</td>   <td>43.936</td>  <td>3.2812</td> \n",
       "</tr>\n",
       "<tr>\n",
       "  <th>non-payment</th> <td>-3.0968</td> <td>-305.402</td>  <td>226.564</td>   <td>149.3596</td>    <td>-20.2076</td>   <td>-43.936</td> <td>-3.2812</td>\n",
       "</tr>\n",
       "</table>"
      ],
      "text/plain": [
       "<class 'statsmodels.iolib.table.SimpleTable'>"
      ]
     },
     "execution_count": 32,
     "metadata": {},
     "output_type": "execute_result"
    }
   ],
   "source": [
    "SimpleTable((observed_frequences[0, :] - expected_frequences[0, :], observed_frequences[1, :] - expected_frequences[1, :]), \n",
    "             headers = [\"Doctor\", \"Master\", \"Bachelor\", \"School grade\",\" Elementary\", \"Other\", \"NA\"], \n",
    "             stubs=['payment', 'non-payment'], \n",
    "             title = 'Contingency table, difference between observed and expected frequences')"
   ]
  },
  {
   "cell_type": "markdown",
   "metadata": {},
   "source": [
    "Также можно посчитать коэффициент Крамера - меру взаимосвязи между двумя исследуемыми признаками EDUCATION и default: "
   ]
  },
  {
   "cell_type": "code",
   "execution_count": 33,
   "metadata": {
    "collapsed": false
   },
   "outputs": [
    {
     "name": "stdout",
     "output_type": "stream",
     "text": [
      "V Cramer:  0.0737600971325\n"
     ]
    }
   ],
   "source": [
    "n = 30000\n",
    "K1 = 2\n",
    "K2 = 7\n",
    "\n",
    "V_cramer = np.sqrt(chi2 / (n * (min(K1, K2) - 1)))\n",
    "print \"V Cramer: \", V_cramer"
   ]
  },
  {
   "cell_type": "markdown",
   "metadata": {},
   "source": [
    "### Пункт 4\n",
    "\n",
    "Семейное положение (MARRIAGE): Проверьте, как связан семейный статус с индикатором дефолта: нужно предложить меру, по которой можно измерить возможную связь этих переменных и посчитать ее значение."
   ]
  },
  {
   "cell_type": "code",
   "execution_count": 34,
   "metadata": {
    "collapsed": false
   },
   "outputs": [
    {
     "data": {
      "image/png": "[encoded data removed]",
      "text/plain": [
       "<matplotlib.figure.Figure at 0xa8183c8>"
      ]
     },
     "metadata": {},
     "output_type": "display_data"
    }
   ],
   "source": [
    "sns.set(style='ticks')\n",
    "\n",
    "g = sns.countplot(x=data.MARRIAGE, hue=data.default, palette = sns.color_palette(['g', 'r']))\n",
    "sns.despine()\n",
    "g.figure.set_size_inches(12,8)\n",
    "g.axes.set_title('Marriage - default', fontsize=14)\n",
    "g.set_xlabel('MARRIAGE', size=14)\n",
    "g.set_ylabel('Count', size=14)\n",
    "g.tick_params(labelsize=12, labelcolor='black')"
   ]
  },
  {
   "cell_type": "markdown",
   "metadata": {},
   "source": [
    "Аналогично предыдущему пункту здесь исследуется взаимосвязь двух категориальных признаков. "
   ]
  },
  {
   "cell_type": "markdown",
   "metadata": {},
   "source": [
    "$H_0\\colon$ признаки MARRIAGE и default независимы или можно считать, что коэффициент Крамера равен нулю\n",
    "\n",
    "$H_1\\colon$ нулевая гипотеза неверна"
   ]
  },
  {
   "cell_type": "code",
   "execution_count": 35,
   "metadata": {
    "collapsed": true
   },
   "outputs": [],
   "source": [
    "observed_payment = np.bincount(data_payment.MARRIAGE)\n",
    "observed_nonpayment = np.bincount(data_nonpayment.MARRIAGE)\n",
    "observed_frequences = np.vstack((observed_payment, observed_nonpayment))"
   ]
  },
  {
   "cell_type": "code",
   "execution_count": 36,
   "metadata": {
    "collapsed": true
   },
   "outputs": [],
   "source": [
    "chi2, p, ddof, expected_frequences = stats.chi2_contingency(observed_frequences, correction=False)"
   ]
  },
  {
   "cell_type": "markdown",
   "metadata": {},
   "source": [
    "Составим таблицу сопряженности для категориальных признаков MARRIAGE и default."
   ]
  },
  {
   "cell_type": "code",
   "execution_count": 37,
   "metadata": {
    "collapsed": false
   },
   "outputs": [
    {
     "data": {
      "text/html": [
       "<table class=\"simpletable\">\n",
       "<caption>Contingency table: Marriage - default</caption>\n",
       "<tr>\n",
       "       <td></td>       <th>No answer</th> <th>Marriage</th> <th>Single</th> <th>NA</th> \n",
       "</tr>\n",
       "<tr>\n",
       "  <th>payment</th>        <td>49</td>       <td>10453</td>   <td>12623</td> <td>239</td>\n",
       "</tr>\n",
       "<tr>\n",
       "  <th>non-payment</th>     <td>5</td>       <td>3206</td>    <td>3341</td>  <td>84</td> \n",
       "</tr>\n",
       "</table>"
      ],
      "text/plain": [
       "<class 'statsmodels.iolib.table.SimpleTable'>"
      ]
     },
     "execution_count": 37,
     "metadata": {},
     "output_type": "execute_result"
    }
   ],
   "source": [
    "SimpleTable((observed_frequences[0, :], observed_frequences[1, :]), \n",
    "             headers = [\"No answer\", \"Marriage\", \"Single\", \"NA\"], \n",
    "             stubs=['payment', 'non-payment'], \n",
    "             title = 'Contingency table: Marriage - default')"
   ]
  },
  {
   "cell_type": "markdown",
   "metadata": {},
   "source": [
    "Проверим условия применимости критерия хи-квадрат для таблиц сопряженности: \n",
    "\n",
    "* необходимо, чтобы выборки были достаточно большими: n >= 40 - очевидно, что выполняется\n",
    "\n",
    "* необходимо, чтобы ожидаемое количество элементов в каждой ячейке таблицы было меньше 5 не более, чем в 20% ячеек"
   ]
  },
  {
   "cell_type": "code",
   "execution_count": 38,
   "metadata": {
    "collapsed": false
   },
   "outputs": [
    {
     "data": {
      "text/plain": [
       "0"
      ]
     },
     "execution_count": 38,
     "metadata": {},
     "output_type": "execute_result"
    }
   ],
   "source": [
    "np.sum(expected_frequences < 5)"
   ]
  },
  {
   "cell_type": "code",
   "execution_count": 39,
   "metadata": {
    "collapsed": false
   },
   "outputs": [
    {
     "name": "stdout",
     "output_type": "stream",
     "text": [
      "p-value:  8.82586245758e-08\n"
     ]
    }
   ],
   "source": [
    "print \"p-value: \", p"
   ]
  },
  {
   "cell_type": "markdown",
   "metadata": {},
   "source": [
    "Можно рассчитать коэффициент Крамера - меру взаимосвязи между двумя исследуемыми признаками MARRIAGE и default: "
   ]
  },
  {
   "cell_type": "code",
   "execution_count": 40,
   "metadata": {
    "collapsed": false
   },
   "outputs": [
    {
     "name": "stdout",
     "output_type": "stream",
     "text": [
      "V Cramer:  0.0344782036628\n"
     ]
    }
   ],
   "source": [
    "n = 30000\n",
    "K1 = 2\n",
    "K2 = 4\n",
    "\n",
    "V_cramer = np.sqrt(chi2 / (n * (min(K1, K2) - 1)))\n",
    "print \"V Cramer: \", V_cramer"
   ]
  },
  {
   "cell_type": "markdown",
   "metadata": {},
   "source": [
    "Достигаемый уровень значимости < 0.05, поэтому мы можем отклонить нулевую гипотезу и сделать вывод о том, что семейное положение и индикатор невозврата кредита связаны. "
   ]
  },
  {
   "cell_type": "markdown",
   "metadata": {},
   "source": [
    "## Пункт 5\n",
    "\n",
    "Возраст (AGE): Относительно двух групп людей вернувших и не вернувших кредит проверьте следующие гипотезы: a) о равенстве медианных значений возрастов людей b) о равенстве распределений с помощью одного из подходящих непараметрических критериев проверки равенства средних. Значимы ли полученные результаты с практической точки зрения ?"
   ]
  },
  {
   "cell_type": "code",
   "execution_count": 41,
   "metadata": {
    "collapsed": false
   },
   "outputs": [
    {
     "data": {
      "image/png": "[encoded data removed]",
      "text/plain": [
       "<matplotlib.figure.Figure at 0xa49e438>"
      ]
     },
     "metadata": {},
     "output_type": "display_data"
    }
   ],
   "source": [
    "plt.figure(figsize = (18, 8))\n",
    "plt.subplot(1, 2, 1)\n",
    "plt.hist(data_payment.AGE, color='g', bins=25, label='payment')\n",
    "plt.hist(data_nonpayment.AGE, color='r', bins=25, label='non-payment')\n",
    "plt.legend(fontsize=14)\n",
    "plt.xlabel('AGE', fontsize = 14)\n",
    "plt.xticks(xrange(data.AGE.min(), data.AGE.max(), 5), rotation='vertical')\n",
    "\n",
    "plt.subplot(1, 2, 2)\n",
    "data_payment.AGE.plot(kind='density', color='g', label='payment')\n",
    "data_nonpayment.AGE.plot(kind='density', color='r', label='non-payment')\n",
    "plt.legend(fontsize=14)\n",
    "plt.xlabel('AGE', fontsize = 14)\n",
    "plt.xticks(xrange(data.AGE.min(), data.AGE.max(), 5), rotation='vertical')\n",
    "plt.xlim(data.AGE.min(), data.AGE.max())\n",
    "plt.show()"
   ]
  },
  {
   "cell_type": "markdown",
   "metadata": {},
   "source": [
    "На графике видно, что распределения очень похожи по форме и параметрам. Скорее всего, между возрастом и признаком дефолта нет связи. "
   ]
  },
  {
   "cell_type": "markdown",
   "metadata": {},
   "source": [
    "a) Проверим равенство медианных значений кредитного лимита с помощью бутстрепа. "
   ]
  },
  {
   "cell_type": "markdown",
   "metadata": {},
   "source": [
    "$H_0\\colon$ медианные значения равны\n",
    "\n",
    "$H_1\\colon$ меданные значение не равны"
   ]
  },
  {
   "cell_type": "code",
   "execution_count": 42,
   "metadata": {
    "collapsed": true
   },
   "outputs": [],
   "source": [
    "payment_median_scores = map(np.median, get_bootstrap_samples(data_payment.AGE.values, 1000))\n",
    "non_payment_median_scores = map(np.median, get_bootstrap_samples(data_nonpayment.AGE.values, 1000))"
   ]
  },
  {
   "cell_type": "markdown",
   "metadata": {},
   "source": [
    "Интервальная оценка медиан: "
   ]
  },
  {
   "cell_type": "code",
   "execution_count": 43,
   "metadata": {
    "collapsed": false
   },
   "outputs": [
    {
     "name": "stdout",
     "output_type": "stream",
     "text": [
      "95% confidence interval for the median AGE (default = 0): [ 34.  34.]\n",
      "95% confidence interval for the median AGE (default = 1): [ 34.  35.]\n"
     ]
    }
   ],
   "source": [
    "print \"95% confidence interval for the median AGE (default = 0):\",  stat_intervals(payment_median_scores, 0.05)\n",
    "print \"95% confidence interval for the median AGE (default = 1):\",  stat_intervals(non_payment_median_scores, 0.05)"
   ]
  },
  {
   "cell_type": "markdown",
   "metadata": {},
   "source": [
    "Интервальная оценка разности медиан:"
   ]
  },
  {
   "cell_type": "code",
   "execution_count": 44,
   "metadata": {
    "collapsed": false
   },
   "outputs": [
    {
     "name": "stdout",
     "output_type": "stream",
     "text": [
      "95% confidence interval for the difference between medians AGE [-1.  0.]\n"
     ]
    }
   ],
   "source": [
    "delta_median_scores = map(lambda scores: scores[0] - scores[1], zip(payment_median_scores, non_payment_median_scores))\n",
    "print \"95% confidence interval for the difference between medians AGE\",  stat_intervals(delta_median_scores, 0.05)"
   ]
  },
  {
   "cell_type": "markdown",
   "metadata": {},
   "source": [
    "Интервальные оценки медиан пересекаются и доверительный интервал для разности медиан содержит ноль, поэтому мы не можем отклонить гипотезу о равенстве медианных значений. "
   ]
  },
  {
   "cell_type": "markdown",
   "metadata": {},
   "source": [
    "b) Проверим гипотезу о равенстве распределений с помощью непараметрического перестановочного критерия. \n",
    "\n",
    "$H_0\\colon F_{X_1}(x) = F_{X_2}(x)$\n",
    "\n",
    "$H_1\\colon F_{X_1}(x) = F_{X_2}(x + \\Delta), \\Delta\\neq 0$ - если справедлива альтернативная гипотеза и между распределениями есть сдвиг, то средние значения выборок будут отличаться\n",
    "\n",
    "Выборки независимые. "
   ]
  },
  {
   "cell_type": "code",
   "execution_count": 45,
   "metadata": {
    "collapsed": false
   },
   "outputs": [
    {
     "name": "stdout",
     "output_type": "stream",
     "text": [
      "p-value: 0.017700\n"
     ]
    }
   ],
   "source": [
    "print \"p-value: %f\" % permutation_test(data_payment.AGE, data_nonpayment.AGE, max_permutations=10000)"
   ]
  },
  {
   "cell_type": "markdown",
   "metadata": {},
   "source": [
    "Достигаемый уровень значимости < 0.05, следовательно мы можем отклонить нулевую гипотезу о равенстве средних. \n",
    "Хотя выборки и оказались статистически различными, однако их медианы отличаются незначительно и ноль входит в доверительный интервал. С практической точки зрения, информативность признака AGE мала. Возможно, совместно с другими признаками возраст клиентов поможет улучшить скоринговую модель. "
   ]
  }
 ],
 "metadata": {
  "kernelspec": {
   "display_name": "Python 2",
   "language": "python",
   "name": "python2"
  },
  "language_info": {
   "codemirror_mode": {
    "name": "ipython",
    "version": 2
   },
   "file_extension": ".py",
   "mimetype": "text/x-python",
   "name": "python",
   "nbconvert_exporter": "python",
   "pygments_lexer": "ipython2",
   "version": "2.7.11"
  }
 },
 "nbformat": 4,
 "nbformat_minor": 0
}
