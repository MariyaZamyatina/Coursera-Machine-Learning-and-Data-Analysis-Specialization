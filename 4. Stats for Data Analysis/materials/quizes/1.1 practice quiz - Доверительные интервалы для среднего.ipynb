{
 "cells": [
  {
   "cell_type": "markdown",
   "metadata": {
    "collapsed": true
   },
   "source": [
    "## Доверительные интервалы для среднего\n",
    "\n",
    "Для 61 большого города в Англии и Уэльсе известны средняя годовая смертность на 100000 населения (по данным 1958–1964) и концентрация кальция в питьевой воде (в частях на миллион). Чем выше концентрация кальция, тем жёстче вода. Города дополнительно поделены на северные и южные.\n",
    "\n",
    "water.txt"
   ]
  },
  {
   "cell_type": "code",
   "execution_count": 6,
   "metadata": {
    "collapsed": true
   },
   "outputs": [],
   "source": [
    "import numpy as np\n",
    "import pandas as pd\n",
    "\n",
    "from statsmodels.stats.weightstats import _tconfint_generic"
   ]
  },
  {
   "cell_type": "code",
   "execution_count": 3,
   "metadata": {
    "collapsed": false
   },
   "outputs": [
    {
     "data": {
      "text/html": [
       "<div>\n",
       "<table border=\"1\" class=\"dataframe\">\n",
       "  <thead>\n",
       "    <tr style=\"text-align: right;\">\n",
       "      <th></th>\n",
       "      <th>location</th>\n",
       "      <th>town</th>\n",
       "      <th>mortality</th>\n",
       "      <th>hardness</th>\n",
       "    </tr>\n",
       "  </thead>\n",
       "  <tbody>\n",
       "    <tr>\n",
       "      <th>0</th>\n",
       "      <td>South</td>\n",
       "      <td>Bath</td>\n",
       "      <td>1247</td>\n",
       "      <td>105</td>\n",
       "    </tr>\n",
       "    <tr>\n",
       "      <th>1</th>\n",
       "      <td>North</td>\n",
       "      <td>Birkenhead</td>\n",
       "      <td>1668</td>\n",
       "      <td>17</td>\n",
       "    </tr>\n",
       "    <tr>\n",
       "      <th>2</th>\n",
       "      <td>South</td>\n",
       "      <td>Birmingham</td>\n",
       "      <td>1466</td>\n",
       "      <td>5</td>\n",
       "    </tr>\n",
       "    <tr>\n",
       "      <th>3</th>\n",
       "      <td>North</td>\n",
       "      <td>Blackburn</td>\n",
       "      <td>1800</td>\n",
       "      <td>14</td>\n",
       "    </tr>\n",
       "    <tr>\n",
       "      <th>4</th>\n",
       "      <td>North</td>\n",
       "      <td>Blackpool</td>\n",
       "      <td>1609</td>\n",
       "      <td>18</td>\n",
       "    </tr>\n",
       "  </tbody>\n",
       "</table>\n",
       "</div>"
      ],
      "text/plain": [
       "  location        town  mortality  hardness\n",
       "0    South        Bath       1247       105\n",
       "1    North  Birkenhead       1668        17\n",
       "2    South  Birmingham       1466         5\n",
       "3    North   Blackburn       1800        14\n",
       "4    North   Blackpool       1609        18"
      ]
     },
     "execution_count": 3,
     "metadata": {},
     "output_type": "execute_result"
    }
   ],
   "source": [
    "df = pd.read_csv('water.txt', sep='\\t')\n",
    "df.head()"
   ]
  },
  {
   "cell_type": "markdown",
   "metadata": {},
   "source": [
    "### Question 2\n",
    "\n",
    "Постройте 95% доверительный интервал для средней годовой смертности в больших городах. Чему равна его нижняя граница? Округлите ответ до 4 знаков после десятичной точки.\n",
    "\n",
    "**Будьте осторожны при использовании метода std()!** Дело в том, что у объекта numpy он по умолчанию вычисляется как \n",
    "$$\\sqrt{\\frac1{n}\\sum_{i=1}^n\\left(X_i-\\bar{X}\\right)^2}$$\n",
    "\n",
    "а у объекта pandas — как\n",
    "\n",
    "$$\\sqrt{\\frac1{n-1}\\sum_{i=1}^n\\left(X_i-\\bar{X}\\right)^2}$$\n",
    "\n",
    "Нас интересует только второй вариант, несмещённая оценка стандартного отклонения.\n",
    "\n",
    "Чтобы не думать всё время о том, правильно ли вычисляется в вашем случае std(), можно всегда использовать std(ddof=1) (ddof — difference in degrees of freedom), тогда нормировка всегда будет на n-1."
   ]
  },
  {
   "cell_type": "code",
   "execution_count": 4,
   "metadata": {
    "collapsed": true
   },
   "outputs": [],
   "source": [
    "mortality = df.loc[:, 'mortality']"
   ]
  },
  {
   "cell_type": "code",
   "execution_count": 5,
   "metadata": {
    "collapsed": false
   },
   "outputs": [],
   "source": [
    "mortality_std = mortality.std(ddof=1)\n",
    "mortality_mean = mortality.mean()"
   ]
  },
  {
   "cell_type": "code",
   "execution_count": 8,
   "metadata": {
    "collapsed": false
   },
   "outputs": [
    {
     "name": "stdout",
     "output_type": "stream",
     "text": [
      "95% confidence interval, mortality - all cities: (1476.0833413552848, 1572.2117406119285)\n"
     ]
    }
   ],
   "source": [
    "confidence_interval = _tconfint_generic(mean = mortality_mean, \n",
    "                                        std_mean = mortality_std/np.sqrt(len(mortality)), \n",
    "                                        dof = len(mortality) - 1,\n",
    "                                        alpha=0.05, \n",
    "                                        alternative='two-sided')\n",
    "\n",
    "print \"95% confidence interval, mortality - all cities:\" , confidence_interval"
   ]
  },
  {
   "cell_type": "code",
   "execution_count": 9,
   "metadata": {
    "collapsed": false
   },
   "outputs": [
    {
     "name": "stdout",
     "output_type": "stream",
     "text": [
      "answer:  1476.0833\n"
     ]
    }
   ],
   "source": [
    "print \"answer: \", '%.4f'% confidence_interval[0]"
   ]
  },
  {
   "cell_type": "markdown",
   "metadata": {},
   "source": [
    "### Question 3\n",
    "\n",
    "На данных из предыдущего вопроса постройте 95% доверительный интервал для средней годовой смертности по всем южным городам. Чему равна его верхняя граница? Округлите ответ до 4 знаков после десятичной точки."
   ]
  },
  {
   "cell_type": "code",
   "execution_count": 10,
   "metadata": {
    "collapsed": false
   },
   "outputs": [],
   "source": [
    "mortality_south = df.loc[df['location'] == 'South', 'mortality']"
   ]
  },
  {
   "cell_type": "code",
   "execution_count": 11,
   "metadata": {
    "collapsed": false
   },
   "outputs": [],
   "source": [
    "mortality_std = mortality_south.std(ddof=1)\n",
    "mortality_mean = mortality_south.mean()"
   ]
  },
  {
   "cell_type": "code",
   "execution_count": 12,
   "metadata": {
    "collapsed": false
   },
   "outputs": [
    {
     "name": "stdout",
     "output_type": "stream",
     "text": [
      "95% confidence interval, mortality - south cities: (1320.1517462936238, 1433.463638321761)\n"
     ]
    }
   ],
   "source": [
    "confidence_interval = _tconfint_generic(mean = mortality_mean, \n",
    "                                        std_mean = mortality_std/np.sqrt(len(mortality_south)), \n",
    "                                        dof = len(mortality_south) - 1, \n",
    "                                        alpha=0.05, \n",
    "                                        alternative='two-sided')\n",
    "\n",
    "print \"95% confidence interval, mortality - south cities:\", confidence_interval"
   ]
  },
  {
   "cell_type": "code",
   "execution_count": 13,
   "metadata": {
    "collapsed": false
   },
   "outputs": [
    {
     "name": "stdout",
     "output_type": "stream",
     "text": [
      "answer:  1433.4636\n"
     ]
    }
   ],
   "source": [
    "print \"answer: \", '%.4f'% confidence_interval[1]"
   ]
  },
  {
   "cell_type": "markdown",
   "metadata": {},
   "source": [
    "### Question 4\n",
    "\n",
    "На тех же данных постройте 95% доверительный интервал для средней годовой смертности по всем северным городам. Пересекается ли этот интервал с предыдущим? Как вы думаете, какой из этого можно сделать вывод?"
   ]
  },
  {
   "cell_type": "code",
   "execution_count": 14,
   "metadata": {
    "collapsed": true
   },
   "outputs": [],
   "source": [
    "mortality_north = df.loc[df['location'] == 'North', 'mortality']"
   ]
  },
  {
   "cell_type": "code",
   "execution_count": 15,
   "metadata": {
    "collapsed": false
   },
   "outputs": [],
   "source": [
    "mortality_std = mortality_north.std(ddof=1)\n",
    "mortality_mean = mortality_north.mean()"
   ]
  },
  {
   "cell_type": "code",
   "execution_count": 16,
   "metadata": {
    "collapsed": false
   },
   "outputs": [
    {
     "name": "stdout",
     "output_type": "stream",
     "text": [
      "95% confidence interval, mortality - north cities: (1586.5605251961385, 1680.6394748038613)\n"
     ]
    }
   ],
   "source": [
    "confidence_interval = _tconfint_generic(mean = mortality_mean, \n",
    "                                        std_mean = mortality_std/np.sqrt(len(mortality_north)), \n",
    "                                        dof = len(mortality_north) - 1, \n",
    "                                        alpha=0.05, \n",
    "                                        alternative='two-sided')\n",
    "\n",
    "print \"95% confidence interval, mortality - north cities:\", confidence_interval"
   ]
  },
  {
   "cell_type": "code",
   "execution_count": 17,
   "metadata": {
    "collapsed": false
   },
   "outputs": [
    {
     "name": "stdout",
     "output_type": "stream",
     "text": [
      "answer: Интервалы не пересекаются; видимо, средняя смертность на севере и на юге существенно разная\n"
     ]
    }
   ],
   "source": [
    "print \"answer: Интервалы не пересекаются; видимо, средняя смертность на севере и на юге существенно разная\""
   ]
  },
  {
   "cell_type": "markdown",
   "metadata": {},
   "source": [
    "### Question 5\n",
    "\n",
    "Пересекаются ли 95% доверительные интервалы для средней жёсткости воды в северных и южных городах?"
   ]
  },
  {
   "cell_type": "code",
   "execution_count": 18,
   "metadata": {
    "collapsed": true
   },
   "outputs": [],
   "source": [
    "hardness_south = df.loc[df['location'] == 'South', 'hardness']\n",
    "hardness_north = df.loc[df['location'] == 'North', 'hardness']"
   ]
  },
  {
   "cell_type": "code",
   "execution_count": 19,
   "metadata": {
    "collapsed": false
   },
   "outputs": [
    {
     "name": "stdout",
     "output_type": "stream",
     "text": [
      "95% confidence interval, hardness - south cities: (53.467198692036106, 86.071262846425441)\n"
     ]
    }
   ],
   "source": [
    "hardness_std = hardness_south.std(ddof=1)\n",
    "hardness_mean = hardness_south.mean()\n",
    "\n",
    "confidence_interval = _tconfint_generic(mean = hardness_mean, \n",
    "                                        std_mean = hardness_std/np.sqrt(len(hardness_south)), \n",
    "                                        dof = len(hardness_south) - 1,\n",
    "                                        alpha=0.05, \n",
    "                                        alternative='two-sided')\n",
    "\n",
    "print \"95% confidence interval, hardness - south cities:\", confidence_interval"
   ]
  },
  {
   "cell_type": "code",
   "execution_count": 20,
   "metadata": {
    "collapsed": false
   },
   "outputs": [
    {
     "name": "stdout",
     "output_type": "stream",
     "text": [
      "95% confidence interval, hardness - north cities: (21.422487285724259, 39.377512714275738)\n"
     ]
    }
   ],
   "source": [
    "hardness_std = hardness_north.std(ddof=1)\n",
    "hardness_mean = hardness_north.mean()\n",
    "\n",
    "confidence_interval = _tconfint_generic(mean = hardness_mean, \n",
    "                                        std_mean = hardness_std/np.sqrt(len(hardness_north)), \n",
    "                                        dof = len(hardness_north) - 1, \n",
    "                                        alpha=0.05, \n",
    "                                        alternative='two-sided')\n",
    "\n",
    "print \"95% confidence interval, hardness - north cities:\", confidence_interval"
   ]
  },
  {
   "cell_type": "code",
   "execution_count": 21,
   "metadata": {
    "collapsed": false
   },
   "outputs": [
    {
     "name": "stdout",
     "output_type": "stream",
     "text": [
      "answer: не пересекаются\n"
     ]
    }
   ],
   "source": [
    "print \"answer: не пересекаются\""
   ]
  }
 ],
 "metadata": {
  "kernelspec": {
   "display_name": "Python 2",
   "language": "python",
   "name": "python2"
  },
  "language_info": {
   "codemirror_mode": {
    "name": "ipython",
    "version": 2
   },
   "file_extension": ".py",
   "mimetype": "text/x-python",
   "name": "python",
   "nbconvert_exporter": "python",
   "pygments_lexer": "ipython2",
   "version": "2.7.11"
  }
 },
 "nbformat": 4,
 "nbformat_minor": 0
}
