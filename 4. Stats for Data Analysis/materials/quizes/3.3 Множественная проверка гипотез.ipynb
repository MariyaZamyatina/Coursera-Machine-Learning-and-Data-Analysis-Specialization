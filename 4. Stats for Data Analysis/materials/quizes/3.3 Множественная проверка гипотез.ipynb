{
 "cells": [
  {
   "cell_type": "markdown",
   "metadata": {},
   "source": [
    "## Множественная проверка гипотез"
   ]
  },
  {
   "cell_type": "code",
   "execution_count": 1,
   "metadata": {
    "collapsed": true
   },
   "outputs": [],
   "source": [
    "import numpy as np\n",
    "import pandas as pd\n",
    "import itertools\n",
    "\n",
    "from scipy import stats\n",
    "from statsmodels.sandbox.stats.multicomp import multipletests "
   ]
  },
  {
   "cell_type": "markdown",
   "metadata": {},
   "source": [
    "### Question 2\n",
    "\n",
    "Классификатор C4.5 и три его модификации: с оптимизацией гиперпараметра m, гиперпараметра cf и с одновременной оптимизацией обоих гиперпараметров. Эти четыре классификатора сравнивались на 14 наборах данных. На каждом датасете был посчитан AUC каждого классификатора. \n",
    "\n",
    "Используя критерий знаковых рангов, проведите попарное сравнение каждого классификатора с каждым. Выберите два классификатора, различие между которыми наиболее статистически значимо."
   ]
  },
  {
   "cell_type": "code",
   "execution_count": 2,
   "metadata": {
    "collapsed": false
   },
   "outputs": [
    {
     "data": {
      "text/html": [
       "<div>\n",
       "<table border=\"1\" class=\"dataframe\">\n",
       "  <thead>\n",
       "    <tr style=\"text-align: right;\">\n",
       "      <th></th>\n",
       "      <th>Unnamed: 0</th>\n",
       "      <th>C4.5</th>\n",
       "      <th>C4.5+m</th>\n",
       "      <th>C4.5+cf</th>\n",
       "      <th>C4.5+m+cf</th>\n",
       "    </tr>\n",
       "  </thead>\n",
       "  <tbody>\n",
       "    <tr>\n",
       "      <th>0</th>\n",
       "      <td>adult (sample)</td>\n",
       "      <td>0.763</td>\n",
       "      <td>0.768</td>\n",
       "      <td>0.771</td>\n",
       "      <td>0.798</td>\n",
       "    </tr>\n",
       "    <tr>\n",
       "      <th>1</th>\n",
       "      <td>breast cancer</td>\n",
       "      <td>0.599</td>\n",
       "      <td>0.591</td>\n",
       "      <td>0.590</td>\n",
       "      <td>0.569</td>\n",
       "    </tr>\n",
       "    <tr>\n",
       "      <th>2</th>\n",
       "      <td>breast cancer wisconsin</td>\n",
       "      <td>0.954</td>\n",
       "      <td>0.971</td>\n",
       "      <td>0.968</td>\n",
       "      <td>0.967</td>\n",
       "    </tr>\n",
       "    <tr>\n",
       "      <th>3</th>\n",
       "      <td>cmc</td>\n",
       "      <td>0.628</td>\n",
       "      <td>0.661</td>\n",
       "      <td>0.654</td>\n",
       "      <td>0.657</td>\n",
       "    </tr>\n",
       "    <tr>\n",
       "      <th>4</th>\n",
       "      <td>ionosphere</td>\n",
       "      <td>0.882</td>\n",
       "      <td>0.888</td>\n",
       "      <td>0.886</td>\n",
       "      <td>0.898</td>\n",
       "    </tr>\n",
       "  </tbody>\n",
       "</table>\n",
       "</div>"
      ],
      "text/plain": [
       "                Unnamed: 0   C4.5  C4.5+m  C4.5+cf  C4.5+m+cf\n",
       "0           adult (sample)  0.763   0.768    0.771      0.798\n",
       "1            breast cancer  0.599   0.591    0.590      0.569\n",
       "2  breast cancer wisconsin  0.954   0.971    0.968      0.967\n",
       "3                      cmc  0.628   0.661    0.654      0.657\n",
       "4               ionosphere  0.882   0.888    0.886      0.898"
      ]
     },
     "execution_count": 2,
     "metadata": {},
     "output_type": "execute_result"
    }
   ],
   "source": [
    "data = pd.read_csv('AUCs.txt', sep='\\t')\n",
    "data.head()"
   ]
  },
  {
   "cell_type": "code",
   "execution_count": 3,
   "metadata": {
    "collapsed": false
   },
   "outputs": [
    {
     "name": "stdout",
     "output_type": "stream",
     "text": [
      "p-value for  C4.5  and  C4.5+m  classificators:  0.0107571331198\n",
      "p-value for  C4.5  and  C4.5+cf  classificators:  0.861262330095\n",
      "p-value for  C4.5  and  C4.5+m+cf  classificators:  0.0159064441017\n",
      "p-value for  C4.5+m  and  C4.5+cf  classificators:  0.0463327297934\n",
      "p-value for  C4.5+m  and  C4.5+m+cf  classificators:  0.327825675845\n",
      "p-value for  C4.5+cf  and  C4.5+m+cf  classificators:  0.0229090993544\n"
     ]
    }
   ],
   "source": [
    "classificator_names = data.columns.values[1:]\n",
    "combinations = itertools.combinations(classificator_names, 2)\n",
    "\n",
    "p_values = np.array([])\n",
    "\n",
    "for combination in combinations:\n",
    "    stat = stats.wilcoxon(data.loc[:, combination[0]], data.loc[:, combination[1]])\n",
    "    p_values = np.append(p_values, stat.pvalue)\n",
    "    print \"p-value for \", combination[0], \" and \", combination[1], \" classificators: \", stat.pvalue"
   ]
  },
  {
   "cell_type": "markdown",
   "metadata": {
    "collapsed": false
   },
   "source": [
    "**Ответ:** C4.5 and C4.5+m"
   ]
  },
  {
   "cell_type": "markdown",
   "metadata": {},
   "source": [
    "### Question 3\n",
    "\n",
    "Сколько статистически значимых на уровне 0.05 различий мы обнаружили?"
   ]
  },
  {
   "cell_type": "code",
   "execution_count": 5,
   "metadata": {
    "collapsed": false
   },
   "outputs": [
    {
     "name": "stdout",
     "output_type": "stream",
     "text": [
      "4\n"
     ]
    }
   ],
   "source": [
    "print len(p_values[p_values < 0.05])"
   ]
  },
  {
   "cell_type": "markdown",
   "metadata": {},
   "source": [
    "### Question 4\n",
    "\n",
    "Судя по данным из предыдущего опроса, настройка какого из параметров классификатора даёт более значимое увеличение качества?"
   ]
  },
  {
   "cell_type": "markdown",
   "metadata": {},
   "source": [
    "**Ответ:** m"
   ]
  },
  {
   "cell_type": "markdown",
   "metadata": {},
   "source": [
    "### Question 5\n",
    "\n",
    "Сравнивая 4 классификатора между собой, мы проверили 6 гипотез. Давайте сделаем поправку на множественную проверку. Начнём с метода Холма. Сколько гипотез можно отвергнуть на уровне значимости 0.05 после поправки этим методом?"
   ]
  },
  {
   "cell_type": "code",
   "execution_count": 6,
   "metadata": {
    "collapsed": false
   },
   "outputs": [
    {
     "name": "stdout",
     "output_type": "stream",
     "text": [
      "corrected p-values:  [ 0.0645428   0.86126233  0.07953222  0.13899819  0.65565135  0.0916364 ]\n",
      "0\n"
     ]
    }
   ],
   "source": [
    "reject, p_corrected, a1, a2 = multipletests(p_values, alpha = 0.05,  method = 'holm')\n",
    "\n",
    "print \"corrected p-values: \", p_corrected\n",
    "print sum(reject)"
   ]
  },
  {
   "cell_type": "markdown",
   "metadata": {},
   "source": [
    "### Question 6\n",
    "\n",
    "Сколько гипотез можно отвергнуть на уровне значимости 0.05 после поправки методом Бенджамини-Хохберга?"
   ]
  },
  {
   "cell_type": "code",
   "execution_count": 7,
   "metadata": {
    "collapsed": false
   },
   "outputs": [
    {
     "name": "stdout",
     "output_type": "stream",
     "text": [
      "corrected p-values:  [ 0.0458182   0.86126233  0.0458182   0.06949909  0.39339081  0.0458182 ]\n",
      "3\n"
     ]
    }
   ],
   "source": [
    "reject, p_corrected, a1, a2 = multipletests(p_values, alpha = 0.05,  method = 'fdr_bh')\n",
    "\n",
    "print \"corrected p-values: \", p_corrected\n",
    "print sum(reject)"
   ]
  },
  {
   "cell_type": "markdown",
   "metadata": {},
   "source": [
    "### Question 7 \n",
    "\n",
    "Насколько корректно, на ваш взгляд, применение метода Бенджамини-Хохберга в этой задаче?"
   ]
  },
  {
   "cell_type": "markdown",
   "metadata": {},
   "source": [
    "**Ответ: ** Некорректно: статистики, соответствующие разным гипотезам, зависимы, так что предположения метода Бенджамини-Хохберга не выполняются"
   ]
  },
  {
   "cell_type": "code",
   "execution_count": null,
   "metadata": {
    "collapsed": true
   },
   "outputs": [],
   "source": []
  }
 ],
 "metadata": {
  "kernelspec": {
   "display_name": "Python 2",
   "language": "python",
   "name": "python2"
  },
  "language_info": {
   "codemirror_mode": {
    "name": "ipython",
    "version": 2
   },
   "file_extension": ".py",
   "mimetype": "text/x-python",
   "name": "python",
   "nbconvert_exporter": "python",
   "pygments_lexer": "ipython2",
   "version": "2.7.11"
  }
 },
 "nbformat": 4,
 "nbformat_minor": 0
}
