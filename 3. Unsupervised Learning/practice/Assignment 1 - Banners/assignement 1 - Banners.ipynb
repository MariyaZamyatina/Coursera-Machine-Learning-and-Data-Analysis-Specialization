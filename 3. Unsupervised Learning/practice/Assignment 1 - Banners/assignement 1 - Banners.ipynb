{
 "cells": [
  {
   "cell_type": "markdown",
   "metadata": {},
   "source": [
    "## Assignment: Размещение баннеров"
   ]
  },
  {
   "cell_type": "markdown",
   "metadata": {},
   "source": [
    "Представим, что международное круизное агентство \"Carnival Cruise Line\" решило себя разрекламировать с помощью баннеров и обратилось для этого к Вам. Чтобы протестировать, велика ли от таких баннеров польза, их будет размещено всего 20 штук по всему миру. Вам надо выбрать 20 таких локаций для размещения, чтобы польза была большой и агентство продолжило с Вами сотрудничать.\n",
    "\n",
    "Агентство крупное, и у него есть несколько офисов по всему миру. Вблизи этих офисов оно и хочет разместить баннеры - легче договариваться и проверять результат. Также эти места должны быть популярны среди туристов.\n",
    "\n",
    "Для поиска оптимальных мест воспользуемся базой данных крупнейшей социальной сети, основанной на локациях - Foursqare.\n",
    "\n",
    "Часть открытых данных есть, например, на сайте archive.org:\n",
    "\n",
    "https://archive.org/details/201309_foursquare_dataset_umn\n",
    "\n",
    "Скачаем любым удобным образом архив с этой страницы.\n",
    "\n",
    "Нас будет интересовать файл checkins.dat. Открыв его, увидим следующую структуру:\n",
    "\n",
    "id | user_id | venue_id | latitude | longitude | created_at\n",
    "\n",
    "---------+---------+----------+-------------------+-------------------+---------------------\n",
    "\n",
    "984301 | 2041916 | 5222 | | | 2012-04-21 17:39:01\n",
    "\n",
    "984222 | 15824 | 5222 | 38.8951118 | -77.0363658 | 2012-04-21 17:43:47\n",
    "\n",
    "984315 | 1764391 | 5222 | | | 2012-04-21 17:37:18\n",
    "\n",
    "984234 | 44652 | 5222 | 33.800745 | -84.41052 | 2012-04-21 17:43:43\n",
    "\n",
    "...\n",
    "\n",
    "Для удобной работы с этим документом преобразуем его к формату csv, удалив строки не содержащие координат - они неинформативны для нас:\n",
    "\n",
    "id,user_id,venue_id,latitude,longitude,created_at\n",
    "\n",
    "984222,15824,5222,38.8951118,-77.0363658,2012-04-21T17:43:47\n",
    "\n",
    "984234,44652,5222,33.800745,-84.41052,2012-04-21T17:43:43\n",
    "\n",
    "984291,105054,5222,45.5234515,-122.6762071,2012-04-21T17:39:22\n",
    "\n",
    "...\n",
    "\n",
    "С помощью pandas построим DataFrame и убедимся, что все 396632 строк с координатами считаны успешно.\n",
    "\n",
    "Теперь необходимо кластеризовать данные координаты, чтобы выявить центры скоплений туристов. Поскольку баннеры имеют сравнительно небольшую площадь действия, нам нужен алгоритм, позволяющий ограничить размер кластера и не зависящий от количества кластеров.\n",
    "\n",
    "Эта задача - хороший повод познакомиться с алгоритмом MeanShift, который мы обошли стороной в основной части лекций. Его описание при желании можно посмотреть в [sklearn user guide](http://scikit-learn.org/stable/modules/clustering.html#mean-shift), а чуть позже появится дополнительное видео с обзором этого и некоторых других алгоритмов кластеризации. Используйте MeanShift, указав bandwidth=0.1, что в переводе из градусов в метры колеблется примерно от 5 до 10 км в средних широтах.\n",
    "\n",
    "Примечание: на 39663 строках, кластеризация будет работать долго. Для получения корректного ответа достаточно и 100000 (~2 минуты на \"среднем\" ноутбуке). Быть очень терпеливым не возбраняется - результат от этого только улучшится.\n",
    "\n",
    "Некоторые из получившихся кластеров содержат слишком мало точек - такие кластеры не интересны рекламодателям. Поэтому надо определить, какие из кластеров содержат, скажем, больше 15 элементов. Центры этих кластеров и являются оптимальными для размещения.\n",
    "\n",
    "При желании увидеть получившиеся результаты на карте, можно передать центры получившихся кластеров в один из инструментов визуализации. Например, сайт mapcustomizer.com имеет функцию Bulk Entry, куда можно вставить центры полученных кластеров в формате:\n",
    "\n",
    "38.8951118,-77.0363658\n",
    "\n",
    "33.800745,-84.41052\n",
    "\n",
    "45.5234515,-122.6762071\n",
    "\n",
    "...\n",
    "\n",
    "Как мы помним, 20 баннеров надо разместить близ офисов компании. Найдем на Google Maps по запросу \"Carnival Cruise Line\" адреса офисов:\n",
    "\n",
    "33.751277, -118.188740 (Los Angeles)\n",
    "\n",
    "25.867736, -80.324116 (Miami)\n",
    "\n",
    "51.503016, -0.075479 (London)\n",
    "\n",
    "52.378894, 4.885084 (Amsterdam)\n",
    "\n",
    "39.366487, 117.036146 (Beijing)\n",
    "\n",
    "-33.868457, 151.205134 (Sydney)\n",
    "\n",
    "Осталось определить 20 ближайших к ним центров кластеров. Т.е. посчитать дистанцию до ближайшего офиса для каждой точки и выбрать 20 с наименьшим значением.\n",
    "\n",
    "Примечание: при подсчете расстояний и в кластеризации можно пренебречь тем, что Земля круглая, так как в точках, расположенных близко друг к другу погрешность мала, а в остальных точках значение достаточно велико.\n",
    "\n",
    "Для сдачи задания выберите из получившихся 20 центров тот, который наименее удален от ближайшего к нему офиса. Ответ в этом задании - широта и долгота этого центра, записанные через пробел."
   ]
  },
  {
   "cell_type": "code",
   "execution_count": 1,
   "metadata": {
    "collapsed": false
   },
   "outputs": [
    {
     "name": "stdout",
     "output_type": "stream",
     "text": [
      "Populating the interactive namespace from numpy and matplotlib\n"
     ]
    }
   ],
   "source": [
    "%pylab inline\n",
    "import numpy as np\n",
    "import pandas as pd\n",
    "import matplotlib.pyplot as plt\n",
    "\n",
    "from sklearn.cluster import MeanShift\n",
    "from collections import Counter"
   ]
  },
  {
   "cell_type": "code",
   "execution_count": 2,
   "metadata": {
    "collapsed": true
   },
   "outputs": [],
   "source": [
    "import os\n",
    "\n",
    "def write_result(task_number, data) : \n",
    "    filename = \"./results/result%s.txt\" % task_number\n",
    "    directory = os.path.dirname(filename)\n",
    "    \n",
    "    if not os.path.exists(directory):\n",
    "        os.makedirs(directory)\n",
    "\n",
    "    file = open(filename, 'w')\n",
    "    for symbol in data:\n",
    "        file.write(str(symbol) + ' ')\n",
    "    file.close()"
   ]
  },
  {
   "cell_type": "code",
   "execution_count": 4,
   "metadata": {
    "collapsed": false
   },
   "outputs": [],
   "source": [
    "data = pd.read_csv('checkins.dat', sep='|', skiprows=[1], skipinitialspace=True).dropna()"
   ]
  },
  {
   "cell_type": "code",
   "execution_count": 5,
   "metadata": {
    "collapsed": false
   },
   "outputs": [
    {
     "data": {
      "text/html": [
       "<div>\n",
       "<table border=\"1\" class=\"dataframe\">\n",
       "  <thead>\n",
       "    <tr style=\"text-align: right;\">\n",
       "      <th></th>\n",
       "      <th>id</th>\n",
       "      <th>user_id</th>\n",
       "      <th>venue_id</th>\n",
       "      <th>latitude</th>\n",
       "      <th>longitude</th>\n",
       "      <th>created_at</th>\n",
       "    </tr>\n",
       "  </thead>\n",
       "  <tbody>\n",
       "    <tr>\n",
       "      <th>1</th>\n",
       "      <td>984222</td>\n",
       "      <td>15824.0</td>\n",
       "      <td>5222.0</td>\n",
       "      <td>38.895112</td>\n",
       "      <td>-77.036366</td>\n",
       "      <td>2012-04-21 17:43:47</td>\n",
       "    </tr>\n",
       "    <tr>\n",
       "      <th>3</th>\n",
       "      <td>984234</td>\n",
       "      <td>44652.0</td>\n",
       "      <td>5222.0</td>\n",
       "      <td>33.800745</td>\n",
       "      <td>-84.410520</td>\n",
       "      <td>2012-04-21 17:43:43</td>\n",
       "    </tr>\n",
       "    <tr>\n",
       "      <th>7</th>\n",
       "      <td>984291</td>\n",
       "      <td>105054.0</td>\n",
       "      <td>5222.0</td>\n",
       "      <td>45.523452</td>\n",
       "      <td>-122.676207</td>\n",
       "      <td>2012-04-21 17:39:22</td>\n",
       "    </tr>\n",
       "    <tr>\n",
       "      <th>9</th>\n",
       "      <td>984318</td>\n",
       "      <td>2146539.0</td>\n",
       "      <td>5222.0</td>\n",
       "      <td>40.764462</td>\n",
       "      <td>-111.904565</td>\n",
       "      <td>2012-04-21 17:35:46</td>\n",
       "    </tr>\n",
       "    <tr>\n",
       "      <th>10</th>\n",
       "      <td>984232</td>\n",
       "      <td>93870.0</td>\n",
       "      <td>380645.0</td>\n",
       "      <td>33.448377</td>\n",
       "      <td>-112.074037</td>\n",
       "      <td>2012-04-21 17:38:18</td>\n",
       "    </tr>\n",
       "  </tbody>\n",
       "</table>\n",
       "</div>"
      ],
      "text/plain": [
       "    id       user_id   venue_id   latitude        longitude       \\\n",
       "1   984222    15824.0     5222.0       38.895112      -77.036366   \n",
       "3   984234    44652.0     5222.0       33.800745      -84.410520   \n",
       "7   984291   105054.0     5222.0       45.523452     -122.676207   \n",
       "9   984318  2146539.0     5222.0       40.764462     -111.904565   \n",
       "10  984232    93870.0   380645.0       33.448377     -112.074037   \n",
       "\n",
       "       created_at        \n",
       "1   2012-04-21 17:43:47  \n",
       "3   2012-04-21 17:43:43  \n",
       "7   2012-04-21 17:39:22  \n",
       "9   2012-04-21 17:35:46  \n",
       "10  2012-04-21 17:38:18  "
      ]
     },
     "execution_count": 5,
     "metadata": {},
     "output_type": "execute_result"
    }
   ],
   "source": [
    "data.head()"
   ]
  },
  {
   "cell_type": "code",
   "execution_count": 6,
   "metadata": {
    "collapsed": false
   },
   "outputs": [
    {
     "data": {
      "text/html": [
       "<div>\n",
       "<table border=\"1\" class=\"dataframe\">\n",
       "  <thead>\n",
       "    <tr style=\"text-align: right;\">\n",
       "      <th></th>\n",
       "      <th>latitude</th>\n",
       "      <th>longitude</th>\n",
       "    </tr>\n",
       "  </thead>\n",
       "  <tbody>\n",
       "    <tr>\n",
       "      <th>1</th>\n",
       "      <td>38.895112</td>\n",
       "      <td>-77.036366</td>\n",
       "    </tr>\n",
       "    <tr>\n",
       "      <th>3</th>\n",
       "      <td>33.800745</td>\n",
       "      <td>-84.410520</td>\n",
       "    </tr>\n",
       "    <tr>\n",
       "      <th>7</th>\n",
       "      <td>45.523452</td>\n",
       "      <td>-122.676207</td>\n",
       "    </tr>\n",
       "    <tr>\n",
       "      <th>9</th>\n",
       "      <td>40.764462</td>\n",
       "      <td>-111.904565</td>\n",
       "    </tr>\n",
       "    <tr>\n",
       "      <th>10</th>\n",
       "      <td>33.448377</td>\n",
       "      <td>-112.074037</td>\n",
       "    </tr>\n",
       "  </tbody>\n",
       "</table>\n",
       "</div>"
      ],
      "text/plain": [
       "    latitude        longitude     \n",
       "1        38.895112      -77.036366\n",
       "3        33.800745      -84.410520\n",
       "7        45.523452     -122.676207\n",
       "9        40.764462     -111.904565\n",
       "10       33.448377     -112.074037"
      ]
     },
     "execution_count": 6,
     "metadata": {},
     "output_type": "execute_result"
    }
   ],
   "source": [
    "data = data.iloc[:, 3:5]\n",
    "data.head()"
   ]
  },
  {
   "cell_type": "code",
   "execution_count": 7,
   "metadata": {
    "collapsed": false
   },
   "outputs": [
    {
     "data": {
      "text/plain": [
       "(396634, 2)"
      ]
     },
     "execution_count": 7,
     "metadata": {},
     "output_type": "execute_result"
    }
   ],
   "source": [
    "data.shape"
   ]
  },
  {
   "cell_type": "code",
   "execution_count": 8,
   "metadata": {
    "collapsed": false
   },
   "outputs": [
    {
     "data": {
      "image/png": "[encoded data removed]",
      "text/plain": [
       "<matplotlib.figure.Figure at 0x171e7b00>"
      ]
     },
     "metadata": {},
     "output_type": "display_data"
    }
   ],
   "source": [
    "fig = plt.figure(figsize=(10, 10))\n",
    "plt.scatter(data.iloc[:, 0], data.iloc[:, 1], alpha=0.3)\n",
    "plt.show()"
   ]
  },
  {
   "cell_type": "code",
   "execution_count": 9,
   "metadata": {
    "collapsed": false
   },
   "outputs": [
    {
     "data": {
      "text/plain": [
       "MeanShift(bandwidth=0.1, bin_seeding=False, cluster_all=True, min_bin_freq=1,\n",
       "     n_jobs=1, seeds=None)"
      ]
     },
     "execution_count": 9,
     "metadata": {},
     "output_type": "execute_result"
    }
   ],
   "source": [
    "bandwidth = 0.1\n",
    "ms = MeanShift(bandwidth=bandwidth)\n",
    "ms.fit(data)"
   ]
  },
  {
   "cell_type": "code",
   "execution_count": 10,
   "metadata": {
    "collapsed": false
   },
   "outputs": [
    {
     "name": "stdout",
     "output_type": "stream",
     "text": [
      "number of estimated clusters : 5536\n"
     ]
    }
   ],
   "source": [
    "labels = ms.labels_\n",
    "cluster_centers = ms.cluster_centers_\n",
    "\n",
    "labels_counter = Counter(labels)\n",
    "\n",
    "n_clusters = len(labels_counter.items())\n",
    "print(\"number of estimated clusters : %d\" % n_clusters)"
   ]
  },
  {
   "cell_type": "code",
   "execution_count": 12,
   "metadata": {
    "collapsed": false
   },
   "outputs": [],
   "source": [
    "bad_clusters_index = np.array([])\n",
    "\n",
    "for cluster_index, labels_n in labels_counter.iteritems():\n",
    "    if (labels_n < 15) : \n",
    "        bad_clusters_index = np.append(bad_clusters_index, cluster_index)\n",
    "\n",
    "clusters = np.delete(cluster_centers, bad_clusters_index, axis=0)"
   ]
  },
  {
   "cell_type": "code",
   "execution_count": 13,
   "metadata": {
    "collapsed": false
   },
   "outputs": [],
   "source": [
    "offices = np.array([[33.751277, -118.188740], [25.867736, -80.324116], [51.503016, -0.075479],\n",
    "                   [52.378894, 4.885084], [39.366487, 117.036146], [-33.868457, 151.205134]])"
   ]
  },
  {
   "cell_type": "code",
   "execution_count": 14,
   "metadata": {
    "collapsed": false
   },
   "outputs": [],
   "source": [
    "nearest_clusters = np.empty(shape=(0,3))\n",
    "\n",
    "for office in offices: \n",
    "    for cluster in clusters:\n",
    "        dist = sqrt((cluster[0] - office[0])**2 + (cluster[1] - office[1])**2)\n",
    "        nearest_clusters = np.vstack( (nearest_clusters, np.array([cluster[0], cluster[1], dist])) ) \n",
    "        \n",
    "# sort by distance\n",
    "nearest_clusters = nearest_clusters[nearest_clusters[:, 2].argsort()][0:20]"
   ]
  },
  {
   "cell_type": "code",
   "execution_count": 15,
   "metadata": {
    "collapsed": false
   },
   "outputs": [
    {
     "name": "stdout",
     "output_type": "stream",
     "text": [
      "nearest cluster center = -33.8661460662 : 151.207082415\n"
     ]
    }
   ],
   "source": [
    "print(\"nearest cluster center = {0} : {1}\".format(nearest_clusters[0][0], nearest_clusters[0][1]))"
   ]
  },
  {
   "cell_type": "code",
   "execution_count": 16,
   "metadata": {
    "collapsed": true
   },
   "outputs": [],
   "source": [
    "write_result(1, [nearest_clusters[0][0], nearest_clusters[0][1]])"
   ]
  },
  {
   "cell_type": "code",
   "execution_count": null,
   "metadata": {
    "collapsed": true
   },
   "outputs": [],
   "source": []
  }
 ],
 "metadata": {
  "kernelspec": {
   "display_name": "Python 2",
   "language": "python",
   "name": "python2"
  },
  "language_info": {
   "codemirror_mode": {
    "name": "ipython",
    "version": 2
   },
   "file_extension": ".py",
   "mimetype": "text/x-python",
   "name": "python",
   "nbconvert_exporter": "python",
   "pygments_lexer": "ipython2",
   "version": "2.7.11"
  }
 },
 "nbformat": 4,
 "nbformat_minor": 0
}
