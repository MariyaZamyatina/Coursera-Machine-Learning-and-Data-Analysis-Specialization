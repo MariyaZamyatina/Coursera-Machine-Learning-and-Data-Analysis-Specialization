{
 "cells": [
  {
   "cell_type": "markdown",
   "metadata": {},
   "source": [
    "## Прогнозирование временных рядов"
   ]
  },
  {
   "cell_type": "code",
   "execution_count": 1,
   "metadata": {
    "collapsed": true
   },
   "outputs": [],
   "source": [
    "import pandas as pd\n",
    "import numpy as np\n",
    "import calendar\n",
    "import statsmodels.api as sm\n",
    "import matplotlib.pyplot as plt\n",
    "\n",
    "%matplotlib inline"
   ]
  },
  {
   "cell_type": "markdown",
   "metadata": {},
   "source": [
    "### Question 1\n",
    "\n",
    "Какие компоненты обычно выделяют во временных рядах?"
   ]
  },
  {
   "cell_type": "markdown",
   "metadata": {},
   "source": [
    "**Answer:** Тренд, цикл, сезонность, ошибка"
   ]
  },
  {
   "cell_type": "markdown",
   "metadata": {},
   "source": [
    "### Question 2\n",
    "\n",
    "Какие особенности характерны для временных рядов?"
   ]
  },
  {
   "cell_type": "markdown",
   "metadata": {},
   "source": [
    "* Значение признака, измерения которого составляют ряд, могут колебаться, но их распределение во времени не меняется (FALSE)\n",
    "\n",
    "* Временной ряд — это набор пар $(t, y_t)$, где $t$ — произвольные моменты времени, а $y_t$ — значения признака y в эти моменты (FALSE)\n",
    "\n",
    "* Временные ряды, как правило, автокоррелированы, то есть, их значения в каждый момент времени в каком-то смысле похожи на значения в недавнем прошлом. (TRUE)"
   ]
  },
  {
   "cell_type": "markdown",
   "metadata": {},
   "source": [
    "### Question 3\n",
    "\n",
    "Из каких слагаемых состоит модель ARMA(p,q)?"
   ]
  },
  {
   "cell_type": "markdown",
   "metadata": {},
   "source": [
    "* Константа $\\alpha$ (TRUE)\n",
    "\n",
    "* $p$ предыдущих значений ряда с постоянными коэффициентами (TRUE)\n",
    "\n",
    "* $p$ предыдущих значений ошибки с постоянными коэффициентами (FALSE)\n",
    "\n",
    "* Ошибка $\\varepsilon_t$ (TRUE)"
   ]
  },
  {
   "cell_type": "markdown",
   "metadata": {},
   "source": [
    "### Question 4\n",
    "\n",
    "Какие из параметров модели SARIMA настраиваются с помощью метода наименьших квадратов?"
   ]
  },
  {
   "cell_type": "markdown",
   "metadata": {},
   "source": [
    "* Длина сезонного периода $S$ (FALSE)\n",
    "\n",
    "* Порядки авторегрессионных компонент $p,P$ (FALSE)\n",
    "\n",
    "* Порядки компонент скользящего среднего $q,Q$ (FALSE)\n",
    "\n",
    "* Порядки дифференцирования $d,D$ (FALSE)\n",
    "\n",
    "* Значения коэффициентов $\\phi$ и $\\theta$ перед предыдущими значениями ряда и предыдущими значениями ошибки (TRUE)\n",
    "\n",
    "* Значение константы $\\alpha$ (TRUE)"
   ]
  },
  {
   "cell_type": "markdown",
   "metadata": {},
   "source": [
    "### Question 5\n",
    "\n",
    "Какой эвристический метод позволяет выбрать начальное приближение для гиперпараметров p и P в сезонной модели ARIMA?"
   ]
  },
  {
   "cell_type": "markdown",
   "metadata": {},
   "source": [
    "* Анализ распределения червей в гнилой печени овцы (FALSE)\n",
    "\n",
    "* Анализ автокорреляционной функции (FALSE)\n",
    "\n",
    "* Анализ частичной автокорреляционной функции (TRUE)"
   ]
  },
  {
   "cell_type": "markdown",
   "metadata": {},
   "source": [
    "### Question 6\n",
    "\n",
    "В приложенном файле — данные по ежемесячному уровню производства молока в фунтах на одну корову.\n",
    "\n",
    "Загрузите ряд, создайте новый ряд значений среднего дневного уровня производства молока в фунтах на одну корову, поделив на число дней в месяце (вычисляется с помощью функции monthrange из пакета calendar). Постройте график полученного ряда; какой из приведённых ниже графиков у вас получился?"
   ]
  },
  {
   "cell_type": "code",
   "execution_count": 2,
   "metadata": {
    "collapsed": false
   },
   "outputs": [
    {
     "data": {
      "text/html": [
       "<div>\n",
       "<table border=\"1\" class=\"dataframe\">\n",
       "  <thead>\n",
       "    <tr style=\"text-align: right;\">\n",
       "      <th></th>\n",
       "      <th>milk</th>\n",
       "    </tr>\n",
       "    <tr>\n",
       "      <th>month</th>\n",
       "      <th></th>\n",
       "    </tr>\n",
       "  </thead>\n",
       "  <tbody>\n",
       "    <tr>\n",
       "      <th>1962-01-01</th>\n",
       "      <td>589</td>\n",
       "    </tr>\n",
       "    <tr>\n",
       "      <th>1962-02-01</th>\n",
       "      <td>561</td>\n",
       "    </tr>\n",
       "    <tr>\n",
       "      <th>1962-03-01</th>\n",
       "      <td>640</td>\n",
       "    </tr>\n",
       "    <tr>\n",
       "      <th>1962-04-01</th>\n",
       "      <td>656</td>\n",
       "    </tr>\n",
       "    <tr>\n",
       "      <th>1962-05-01</th>\n",
       "      <td>727</td>\n",
       "    </tr>\n",
       "  </tbody>\n",
       "</table>\n",
       "</div>"
      ],
      "text/plain": [
       "            milk\n",
       "month           \n",
       "1962-01-01   589\n",
       "1962-02-01   561\n",
       "1962-03-01   640\n",
       "1962-04-01   656\n",
       "1962-05-01   727"
      ]
     },
     "execution_count": 2,
     "metadata": {},
     "output_type": "execute_result"
    }
   ],
   "source": [
    "data = pd.read_csv('data/monthly-milk-production.csv',';', index_col=['month'], parse_dates=['month'], dayfirst=True)\n",
    "data.head()"
   ]
  },
  {
   "cell_type": "code",
   "execution_count": 3,
   "metadata": {
    "collapsed": false
   },
   "outputs": [],
   "source": [
    "for month_id in data.index:\n",
    "    data.loc[month_id, 'num_days'] = calendar.monthrange(month_id.year, month_id.month)[1]\n",
    "    \n",
    "data['daily'] = data['milk']/data['num_days']"
   ]
  },
  {
   "cell_type": "code",
   "execution_count": 4,
   "metadata": {
    "collapsed": false
   },
   "outputs": [
    {
     "data": {
      "text/html": [
       "<div>\n",
       "<table border=\"1\" class=\"dataframe\">\n",
       "  <thead>\n",
       "    <tr style=\"text-align: right;\">\n",
       "      <th></th>\n",
       "      <th>milk</th>\n",
       "      <th>num_days</th>\n",
       "      <th>daily</th>\n",
       "    </tr>\n",
       "    <tr>\n",
       "      <th>month</th>\n",
       "      <th></th>\n",
       "      <th></th>\n",
       "      <th></th>\n",
       "    </tr>\n",
       "  </thead>\n",
       "  <tbody>\n",
       "    <tr>\n",
       "      <th>1962-01-01</th>\n",
       "      <td>589</td>\n",
       "      <td>31.0</td>\n",
       "      <td>19.000000</td>\n",
       "    </tr>\n",
       "    <tr>\n",
       "      <th>1962-02-01</th>\n",
       "      <td>561</td>\n",
       "      <td>28.0</td>\n",
       "      <td>20.035714</td>\n",
       "    </tr>\n",
       "    <tr>\n",
       "      <th>1962-03-01</th>\n",
       "      <td>640</td>\n",
       "      <td>31.0</td>\n",
       "      <td>20.645161</td>\n",
       "    </tr>\n",
       "    <tr>\n",
       "      <th>1962-04-01</th>\n",
       "      <td>656</td>\n",
       "      <td>30.0</td>\n",
       "      <td>21.866667</td>\n",
       "    </tr>\n",
       "    <tr>\n",
       "      <th>1962-05-01</th>\n",
       "      <td>727</td>\n",
       "      <td>31.0</td>\n",
       "      <td>23.451613</td>\n",
       "    </tr>\n",
       "  </tbody>\n",
       "</table>\n",
       "</div>"
      ],
      "text/plain": [
       "            milk  num_days      daily\n",
       "month                                \n",
       "1962-01-01   589      31.0  19.000000\n",
       "1962-02-01   561      28.0  20.035714\n",
       "1962-03-01   640      31.0  20.645161\n",
       "1962-04-01   656      30.0  21.866667\n",
       "1962-05-01   727      31.0  23.451613"
      ]
     },
     "execution_count": 4,
     "metadata": {},
     "output_type": "execute_result"
    }
   ],
   "source": [
    "data.head()"
   ]
  },
  {
   "cell_type": "code",
   "execution_count": 5,
   "metadata": {
    "collapsed": false
   },
   "outputs": [
    {
     "data": {
      "image/png": "[encoded data removed]",
      "text/plain": [
       "<matplotlib.figure.Figure at 0xbac6a90>"
      ]
     },
     "metadata": {},
     "output_type": "display_data"
    }
   ],
   "source": [
    "data['daily'].plot()\n",
    "plt.show()"
   ]
  },
  {
   "cell_type": "markdown",
   "metadata": {},
   "source": [
    "### Question 7\n",
    "\n",
    "Для ряда со средним дневным количеством молока на корову из предыдущего вопроса давайте с помощью критерий Дики-Фуллера подберём порядок дифференцирования, при котором ряд становится стационарным.\n",
    "\n",
    "Дифференцирование можно делать так:\n",
    "\n",
    "    milk.daily_diff1 = milk.daily - milk.daily.shift(1)\n",
    "\n",
    "Чтобы сделать сезонное дифференцирование, нужно изменить значение параметра у функции shift:\n",
    "\n",
    "    milk.daily_diff12 = milk.daily - milk.daily.shift(12)\n",
    "    \n",
    "При дифференцировании длина ряда сокращается, поэтому в части строк в новой колонке значения будут не определены (NaN). Подавая полученные столбцы на вход критерию Дики-Фуллера, отрезайте неопределённые значения, иначе вы получите неопределённый достигаемый уровень значимости.\n",
    "\n",
    "Итак, какое дифференцирование делает ряд стационарным?"
   ]
  },
  {
   "cell_type": "code",
   "execution_count": 6,
   "metadata": {
    "collapsed": false
   },
   "outputs": [
    {
     "data": {
      "text/html": [
       "<div>\n",
       "<table border=\"1\" class=\"dataframe\">\n",
       "  <thead>\n",
       "    <tr style=\"text-align: right;\">\n",
       "      <th></th>\n",
       "      <th>milk</th>\n",
       "      <th>num_days</th>\n",
       "      <th>daily</th>\n",
       "      <th>daily_diff1</th>\n",
       "      <th>daily_diff12</th>\n",
       "    </tr>\n",
       "    <tr>\n",
       "      <th>month</th>\n",
       "      <th></th>\n",
       "      <th></th>\n",
       "      <th></th>\n",
       "      <th></th>\n",
       "      <th></th>\n",
       "    </tr>\n",
       "  </thead>\n",
       "  <tbody>\n",
       "    <tr>\n",
       "      <th>1962-01-01</th>\n",
       "      <td>589</td>\n",
       "      <td>31.0</td>\n",
       "      <td>19.000000</td>\n",
       "      <td>NaN</td>\n",
       "      <td>NaN</td>\n",
       "    </tr>\n",
       "    <tr>\n",
       "      <th>1962-02-01</th>\n",
       "      <td>561</td>\n",
       "      <td>28.0</td>\n",
       "      <td>20.035714</td>\n",
       "      <td>1.035714</td>\n",
       "      <td>NaN</td>\n",
       "    </tr>\n",
       "    <tr>\n",
       "      <th>1962-03-01</th>\n",
       "      <td>640</td>\n",
       "      <td>31.0</td>\n",
       "      <td>20.645161</td>\n",
       "      <td>0.609447</td>\n",
       "      <td>NaN</td>\n",
       "    </tr>\n",
       "    <tr>\n",
       "      <th>1962-04-01</th>\n",
       "      <td>656</td>\n",
       "      <td>30.0</td>\n",
       "      <td>21.866667</td>\n",
       "      <td>1.221505</td>\n",
       "      <td>NaN</td>\n",
       "    </tr>\n",
       "    <tr>\n",
       "      <th>1962-05-01</th>\n",
       "      <td>727</td>\n",
       "      <td>31.0</td>\n",
       "      <td>23.451613</td>\n",
       "      <td>1.584946</td>\n",
       "      <td>NaN</td>\n",
       "    </tr>\n",
       "  </tbody>\n",
       "</table>\n",
       "</div>"
      ],
      "text/plain": [
       "            milk  num_days      daily  daily_diff1  daily_diff12\n",
       "month                                                           \n",
       "1962-01-01   589      31.0  19.000000          NaN           NaN\n",
       "1962-02-01   561      28.0  20.035714     1.035714           NaN\n",
       "1962-03-01   640      31.0  20.645161     0.609447           NaN\n",
       "1962-04-01   656      30.0  21.866667     1.221505           NaN\n",
       "1962-05-01   727      31.0  23.451613     1.584946           NaN"
      ]
     },
     "execution_count": 6,
     "metadata": {},
     "output_type": "execute_result"
    }
   ],
   "source": [
    "data['daily_diff1'] = data['daily'] - data['daily'].shift(1)\n",
    "data['daily_diff12'] = data['daily'] - data['daily'].shift(12)\n",
    "data.head()"
   ]
  },
  {
   "cell_type": "code",
   "execution_count": 7,
   "metadata": {
    "collapsed": false
   },
   "outputs": [
    {
     "name": "stdout",
     "output_type": "stream",
     "text": [
      "Dickey-Fuller test: \n",
      "(-1.1798216373266039, 0.68221515130814403, 12L, 155L, {'5%': -2.8803740821053339, '1%': -3.4732590518613002, '10%': -2.5768120811654525}, -1.5708067458066353)\n"
     ]
    }
   ],
   "source": [
    "print \"Dickey-Fuller test: \\n\", sm.tsa.stattools.adfuller(data['daily'].values)"
   ]
  },
  {
   "cell_type": "code",
   "execution_count": 8,
   "metadata": {
    "collapsed": false
   },
   "outputs": [
    {
     "name": "stdout",
     "output_type": "stream",
     "text": [
      "Differentiation, Dickey-Fuller test: \n",
      "(-2.7594694762289382, 0.064300546541742651, 11L, 155L, {'5%': -2.8803740821053339, '1%': -3.4732590518613002, '10%': -2.5768120811654525}, -1.153997338105512)\n"
     ]
    }
   ],
   "source": [
    "print \"Differentiation, Dickey-Fuller test: \\n\", sm.tsa.stattools.adfuller(data.daily_diff1.dropna().values)"
   ]
  },
  {
   "cell_type": "code",
   "execution_count": 9,
   "metadata": {
    "collapsed": false
   },
   "outputs": [
    {
     "name": "stdout",
     "output_type": "stream",
     "text": [
      "Season differentiation, Dickey-Fuller test: \n",
      "(-2.1594860932888071, 0.221276726588304, 12L, 143L, {'5%': -2.8819726324025625, '1%': -3.4769274060112707, '10%': -2.5776654080884152}, -25.225679141303317)\n"
     ]
    }
   ],
   "source": [
    "print \"Season differentiation, Dickey-Fuller test: \\n\", sm.tsa.stattools.adfuller(data.daily_diff12.dropna().values)"
   ]
  },
  {
   "cell_type": "code",
   "execution_count": 10,
   "metadata": {
    "collapsed": false
   },
   "outputs": [],
   "source": [
    "data['daily_diff_two'] = data['daily'] - data['daily'].shift(12)\n",
    "data['daily_diff_two'] = data['daily_diff_two'] - data['daily_diff_two'].shift(1)"
   ]
  },
  {
   "cell_type": "code",
   "execution_count": 11,
   "metadata": {
    "collapsed": false
   },
   "outputs": [
    {
     "name": "stdout",
     "output_type": "stream",
     "text": [
      "Two differentiations, Dickey-Fuller test: \n",
      "(-5.4813263347969325, 2.2808455518036712e-06, 11L, 143L, {'5%': -2.8819726324025625, '1%': -3.4769274060112707, '10%': -2.5776654080884152}, -20.905137509892256)\n"
     ]
    }
   ],
   "source": [
    "print \"Two differentiations, Dickey-Fuller test: \\n\", sm.tsa.stattools.adfuller(data.daily_diff_two.dropna().values)"
   ]
  },
  {
   "cell_type": "markdown",
   "metadata": {},
   "source": [
    "* Дифференцирование не нужно, исходный ряд уже стационарен\n",
    "\n",
    "* Ряд становится стационарным после однократного дифференцирования\n",
    "\n",
    "* Ряд становится стационарным после сезонного дифференцирования\n",
    "\n",
    "* Ряд становится стационарным после двух последовательных дифференцирований — сезонного и обычного (TRUE)"
   ]
  },
  {
   "cell_type": "markdown",
   "metadata": {},
   "source": [
    "### Question 8\n",
    "\n",
    "Для стационарного ряда из предыдущего вопроса (продифференцированного столько раз, сколько вы посчитали нужным) постройте график автокорреляционной функции. Это можно cделать так:\n",
    "\n",
    "    import statsmodels.api as sm\n",
    "    sm.graphics.tsa.plot_acf(ряд.values.squeeze(), lags=50)\n",
    "    \n",
    "Исходя из этого графика, какое начальное приближение вы предложили бы для параметра $Q$ в модели SARIMA?"
   ]
  },
  {
   "cell_type": "code",
   "execution_count": 12,
   "metadata": {
    "collapsed": false
   },
   "outputs": [
    {
     "data": {
      "text/plain": [
       "<matplotlib.axes._subplots.AxesSubplot at 0xbf95ef0>"
      ]
     },
     "execution_count": 12,
     "metadata": {},
     "output_type": "execute_result"
    },
    {
     "data": {
      "image/png": "[encoded data removed]",
      "text/plain": [
       "<matplotlib.figure.Figure at 0xbd4c860>"
      ]
     },
     "metadata": {},
     "output_type": "display_data"
    }
   ],
   "source": [
    "data.daily_diff_two.plot()"
   ]
  },
  {
   "cell_type": "code",
   "execution_count": 13,
   "metadata": {
    "collapsed": false
   },
   "outputs": [
    {
     "data": {
      "image/png": "[encoded data removed]",
      "text/plain": [
       "<matplotlib.figure.Figure at 0xbc9da58>"
      ]
     },
     "metadata": {},
     "output_type": "display_data"
    }
   ],
   "source": [
    "sm.graphics.tsa.plot_acf(data.daily_diff_two.dropna().values.squeeze(), lags=50)\n",
    "plt.show()"
   ]
  },
  {
   "cell_type": "markdown",
   "metadata": {},
   "source": [
    "**Answer:** 1"
   ]
  },
  {
   "cell_type": "markdown",
   "metadata": {},
   "source": [
    "### Question 9 \n",
    "\n",
    "Для того же ряда, что и в предыдущем вопросе, постройте график частичной автокорреляционной функции. Это можно сделать так:\n",
    "\n",
    "    import statsmodels.api as sm\n",
    "    sm.graphics.tsa.plot_pacf(ряд.values.squeeze(), lags=50)\n",
    "    \n",
    "Исходя из этого графика, какое начальное приближение вы предложили бы для параметра $p$ в модели SARIMA?"
   ]
  },
  {
   "cell_type": "code",
   "execution_count": 14,
   "metadata": {
    "collapsed": false
   },
   "outputs": [
    {
     "data": {
      "image/png": "[encoded data removed]",
      "text/plain": [
       "<matplotlib.figure.Figure at 0xc3447b8>"
      ]
     },
     "metadata": {},
     "output_type": "display_data"
    }
   ],
   "source": [
    "sm.graphics.tsa.plot_pacf(data.daily_diff_two.dropna().values.squeeze(), lags=50)\n",
    "plt.show()"
   ]
  },
  {
   "cell_type": "markdown",
   "metadata": {},
   "source": [
    "**Answer:** 0"
   ]
  }
 ],
 "metadata": {
  "anaconda-cloud": {},
  "kernelspec": {
   "display_name": "Python [conda env:python27]",
   "language": "python",
   "name": "conda-env-python27-py"
  },
  "language_info": {
   "codemirror_mode": {
    "name": "ipython",
    "version": 2
   },
   "file_extension": ".py",
   "mimetype": "text/x-python",
   "name": "python",
   "nbconvert_exporter": "python",
   "pygments_lexer": "ipython2",
   "version": "2.7.12"
  }
 },
 "nbformat": 4,
 "nbformat_minor": 1
}
