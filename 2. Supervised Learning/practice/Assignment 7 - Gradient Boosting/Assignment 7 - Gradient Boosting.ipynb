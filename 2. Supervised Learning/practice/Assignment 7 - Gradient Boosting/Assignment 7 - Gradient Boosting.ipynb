{
 "cells": [
  {
   "cell_type": "markdown",
   "metadata": {},
   "source": [
    "## Assignment: Градиентный бустинг своими руками"
   ]
  },
  {
   "cell_type": "markdown",
   "metadata": {},
   "source": [
    "В этом задании будет использоваться датасет boston из sklearn.datasets. Оставьте последние 25% объектов для контроля качества, разделив X и y на X_train, y_train и X_test, y_test.\n",
    "\n",
    "Целью задания будет реализовать простой вариант градиентного бустинга над регрессионными деревьями для случая квадратичной функции потерь."
   ]
  },
  {
   "cell_type": "code",
   "execution_count": 1,
   "metadata": {
    "collapsed": false
   },
   "outputs": [
    {
     "data": {
      "text/plain": [
       "sys.version_info(major=2, minor=7, micro=11, releaselevel='final', serial=0)"
      ]
     },
     "execution_count": 1,
     "metadata": {},
     "output_type": "execute_result"
    }
   ],
   "source": [
    "import sys\n",
    "sys.version_info"
   ]
  },
  {
   "cell_type": "code",
   "execution_count": 2,
   "metadata": {
    "collapsed": false
   },
   "outputs": [],
   "source": [
    "%matplotlib inline\n",
    "\n",
    "import numpy as np\n",
    "import pandas as pd\n",
    "\n",
    "import matplotlib.pyplot as plt\n",
    "from sklearn import datasets\n",
    "from sklearn.tree import DecisionTreeRegressor\n",
    "from sklearn.metrics import mean_squared_error\n",
    "from sklearn.linear_model import LinearRegression"
   ]
  },
  {
   "cell_type": "code",
   "execution_count": 3,
   "metadata": {
    "collapsed": true
   },
   "outputs": [],
   "source": [
    "import os\n",
    "\n",
    "def write_result(task_number, data) : \n",
    "    filename = \"./results/result%s.txt\" % task_number\n",
    "    directory = os.path.dirname(filename)\n",
    "    \n",
    "    if not os.path.exists(directory):\n",
    "        os.makedirs(directory)\n",
    "\n",
    "    file = open(filename, 'w')\n",
    "    for symbol in data:\n",
    "        file.write(str(symbol) + ' ')\n",
    "    file.close()"
   ]
  },
  {
   "cell_type": "code",
   "execution_count": 4,
   "metadata": {
    "collapsed": false
   },
   "outputs": [
    {
     "name": "stdout",
     "output_type": "stream",
     "text": [
      "(506L, 13L)\n",
      "(506L,)\n"
     ]
    }
   ],
   "source": [
    "data = datasets.load_boston()\n",
    "boston_data = data['data']\n",
    "boston_target = data['target']\n",
    "\n",
    "print(boston_data.shape)\n",
    "print(boston_target.shape)\n",
    "\n",
    "split_border = int(len(boston_data)*0.75)\n",
    "\n",
    "X_train = boston_data[0:split_border, :]\n",
    "X_test = boston_data[split_border:len(boston_data), :]\n",
    "y_train = boston_target[0:split_border]\n",
    "y_test = boston_target[split_border:len(boston_target)]"
   ]
  },
  {
   "cell_type": "markdown",
   "metadata": {},
   "source": [
    "### Задание 1\n",
    "\n",
    "Как вы уже знаете из лекций, бустинг - это метод построения композиций базовых алгоритмов с помощью последовательного добавления к текущей композиции нового алгоритма с некоторым коэффициентом. Градиентный бустинг обучает каждый новый алгоритм так, чтобы он приближал антиградиент ошибки по ответам композиции на обучающей выборке. Аналогично минимизации функций методом градиентного спуска, в градиентном бустинге мы подправляем композицию, изменяя алгоритм в направлении антиградиента ошибки. Воспользуйтесь формулой из лекций, задающей ответы на обучающей выборке, на которые нужно обучать новый алгоритм (фактически это лишь чуть более подробно расписанный градиент от ошибки), и получите частный ее случай, если функция потерь L - квадрат отклонения ответа композиции a(x) от правильного ответа y на данном x.\n",
    "\n",
    "Если вы давно не считали производную самостоятельно, вам поможет таблица производных элементарных функций (которую несложно найти в интернете) и правило дифференцирования сложной функции. После дифференцирования квадрата у вас возникнет множитель 2 — т.к. нам все равно предстоит выбирать коэффициент, с которым будет добавлен новый базовый алгоритм, проигноируйте этот множитель при дальнейшем построении алгоритма."
   ]
  },
  {
   "cell_type": "code",
   "execution_count": 5,
   "metadata": {
    "collapsed": true
   },
   "outputs": [],
   "source": [
    "def s_vect(y, predictions):\n",
    "    return y - predictions"
   ]
  },
  {
   "cell_type": "markdown",
   "metadata": {},
   "source": [
    "### Задание 2\n",
    "\n",
    "Заведите массив для объектов DecisionTreeRegressor (будем их использовать в качестве базовых алгоритмов) и для вещественных чисел (это будут коэффициенты перед базовыми алгоритмами). В цикле обучите последовательно 50 решающих деревьев с параметрами max_depth=5 и random_state=42 (остальные параметры - по умолчанию). В бустинге зачастую используются сотни и тысячи деревьев, но мы ограничимся 50, чтобы алгоритм работал быстрее, и его было проще отлаживать (т.к. цель задания разобраться, как работает метод). Каждое дерево должно обучаться на одном и том же множестве объектов, но ответы, которые учится прогнозировать дерево, будут меняться в соответствие с полученным в задании 1 правилом. Попробуйте для начала всегда брать коэффициент равным 0.9. Обычно оправдано выбирать коэффициент значительно меньшим - порядка 0.05 или 0.1, но т.к. в нашем учебном примере на стандартном датасете будет всего 50 деревьев, возьмем для начала шаг побольше.\n",
    "\n",
    "В процессе реализации обучения вам потребуется функция, которая будет вычислять прогноз построенной на данный момент композиции деревьев на выборке X:"
   ]
  },
  {
   "cell_type": "code",
   "execution_count": 6,
   "metadata": {
    "collapsed": true
   },
   "outputs": [],
   "source": [
    "def gbm_predict(X, base_algorithms_list, coefficients_list):\n",
    "    return [sum([coeff * algo.predict([x])[0] for algo, coeff in zip(base_algorithms_list, coefficients_list)]) for x in X]"
   ]
  },
  {
   "cell_type": "markdown",
   "metadata": {},
   "source": [
    "(считаем, что base_algorithms_list - список с базовыми алгоритмами, coefficients_list - список с коэффициентами перед алгоритмами)\n",
    "\n",
    "Эта же функция поможет вам получить прогноз на контрольной выборке и оценить качество работы вашего алгоритма с помощью mean_squared_error в sklearn.metrics. Возведите результат в степень 0.5, чтобы получить RMSE. Полученное значение RMSE — ответ в пункте 2."
   ]
  },
  {
   "cell_type": "code",
   "execution_count": 7,
   "metadata": {
    "collapsed": false
   },
   "outputs": [],
   "source": [
    "def gradient_boosting(n_trees, max_depth, find_rmse):\n",
    "    random_state = 42\n",
    "    theta = 0.9\n",
    "    \n",
    "    base_algorithms_list = np.array([])\n",
    "    coefficients_list = np.array([])\n",
    "    rmse_list = np.array([])\n",
    "    \n",
    "    b0 = DecisionTreeRegressor(max_depth=max_depth, random_state=random_state)\n",
    "    base_algorithms_list = np.append(base_algorithms_list, b0.fit(X_train, y_train))\n",
    "    coefficients_list = np.append(coefficients_list, theta)\n",
    "    \n",
    "    if (find_rmse) :\n",
    "        rmse = mean_squared_error(y_test, gbm_predict(X_test, base_algorithms_list, coefficients_list))**0.5\n",
    "        rmse_list = np.append(rmse_list, rmse)\n",
    "    \n",
    "    for i in np.arange(1, n_trees):\n",
    "        s = s_vect(y_train, gbm_predict(X_train, base_algorithms_list, coefficients_list))\n",
    "        bi = DecisionTreeRegressor(max_depth=max_depth, random_state=random_state)\n",
    "        bi = bi.fit(X_train, s)\n",
    "        base_algorithms_list = np.append(base_algorithms_list, bi)\n",
    "        coefficients_list = np.append(coefficients_list, theta)\n",
    "        \n",
    "        if (find_rmse) :\n",
    "            rmse = mean_squared_error(y_test, gbm_predict(X_test, base_algorithms_list, coefficients_list))**0.5\n",
    "            rmse_list = np.append(rmse_list, rmse)\n",
    "            \n",
    "    if (find_rmse) :\n",
    "        return base_algorithms_list, coefficients_list, rmse_list\n",
    "    else:\n",
    "        return base_algorithms_list, coefficients_list"
   ]
  },
  {
   "cell_type": "code",
   "execution_count": 8,
   "metadata": {
    "collapsed": false
   },
   "outputs": [],
   "source": [
    "base_algorithms, coefficients, rmses = gradient_boosting(n_trees=50, max_depth=5, find_rmse=True)"
   ]
  },
  {
   "cell_type": "code",
   "execution_count": 9,
   "metadata": {
    "collapsed": false
   },
   "outputs": [
    {
     "data": {
      "image/png": "[encoded data removed]",
      "text/plain": [
       "<matplotlib.figure.Figure at 0x9510eb8>"
      ]
     },
     "metadata": {},
     "output_type": "display_data"
    }
   ],
   "source": [
    "plt.plot(np.arange(0, 50), rmses, 'g', marker='o')\n",
    "plt.xlabel('n_trees')\n",
    "plt.ylabel('rmse')\n",
    "plt.show()"
   ]
  },
  {
   "cell_type": "code",
   "execution_count": 10,
   "metadata": {
    "collapsed": false
   },
   "outputs": [
    {
     "name": "stdout",
     "output_type": "stream",
     "text": [
      "('Gradient boosting, rmse =', 5.4766509741689484)\n"
     ]
    }
   ],
   "source": [
    "rmse = mean_squared_error(y_test, gbm_predict(X_test, base_algorithms, coefficients))**0.5\n",
    "print('Gradient boosting, rmse =', rmse)"
   ]
  },
  {
   "cell_type": "code",
   "execution_count": 11,
   "metadata": {
    "collapsed": true
   },
   "outputs": [],
   "source": [
    "write_result(2, [rmse])"
   ]
  },
  {
   "cell_type": "markdown",
   "metadata": {},
   "source": [
    "### Задание 3\n",
    "\n",
    "Вас может также беспокоить, что двигаясь с постоянным шагом, вблизи минимума ошибки ответы на обучающей выборке меняются слишком резко, перескакивая через минимум. Попробуйте уменьшать вес перед каждым алгоритмом с каждой следующей итерацией по формуле 0.9 / (1.0 + i), где i - номер итерации (от 0 до 49). Используйте качество работы алгоритма как ответ в пункте 3. В реальности часто применяется следующая стратегия выбора шага: как только выбран алгоритм, подберем коэффициент перед ним численным методом оптимизации таким образом, чтобы отклонение от правильных ответов было минимальным. Мы не будем предлагать вам реализовать это для выполнения задания, но рекомендуем попробовать разобраться с такой стратегией и реализовать ее при случае для себя."
   ]
  },
  {
   "cell_type": "code",
   "execution_count": 12,
   "metadata": {
    "collapsed": true
   },
   "outputs": [],
   "source": [
    "def theta(i):\n",
    "    return 0.9/(1.0 + i)\n",
    "\n",
    "def gradient_boosting_weight(n_trees, max_depth, find_rmse):\n",
    "    random_state = 42\n",
    "\n",
    "    base_algorithms_list = np.array([])\n",
    "    coefficients_list = np.array([])\n",
    "    rmse_list = np.array([])\n",
    "    \n",
    "    b0 = DecisionTreeRegressor(max_depth=max_depth, random_state=random_state)\n",
    "    base_algorithms_list = np.append(base_algorithms_list, b0.fit(X_train, y_train))\n",
    "    coefficients_list = np.append(coefficients_list, theta(0))\n",
    "    \n",
    "    if (find_rmse) :\n",
    "        rmse = mean_squared_error(y_test, gbm_predict(X_test, base_algorithms_list, coefficients_list))**0.5\n",
    "        rmse_list = np.append(rmse_list, rmse)\n",
    "    \n",
    "    for i in np.arange(1, n_trees):\n",
    "        s = s_vect(y_train, gbm_predict(X_train, base_algorithms_list, coefficients_list))\n",
    "        bi = DecisionTreeRegressor(max_depth=max_depth, random_state=random_state)\n",
    "        bi = bi.fit(X_train, s)\n",
    "        base_algorithms_list = np.append(base_algorithms_list, bi)\n",
    "        coefficients_list = np.append(coefficients_list, theta(i))\n",
    "        \n",
    "        if (find_rmse) :\n",
    "            rmse = mean_squared_error(y_test, gbm_predict(X_test, base_algorithms_list, coefficients_list))**0.5\n",
    "            rmse_list = np.append(rmse_list, rmse)\n",
    "            \n",
    "    if (find_rmse) :\n",
    "        return base_algorithms_list, coefficients_list, rmse_list\n",
    "    else:\n",
    "        return base_algorithms_list, coefficients_list"
   ]
  },
  {
   "cell_type": "code",
   "execution_count": 13,
   "metadata": {
    "collapsed": true
   },
   "outputs": [],
   "source": [
    "base_algorithms, coefficients, rmses = gradient_boosting_weight(n_trees=50, max_depth=5, find_rmse=True)"
   ]
  },
  {
   "cell_type": "code",
   "execution_count": 14,
   "metadata": {
    "collapsed": false
   },
   "outputs": [
    {
     "data": {
      "image/png": "[encoded data removed]",
      "text/plain": [
       "<matplotlib.figure.Figure at 0x98feda0>"
      ]
     },
     "metadata": {},
     "output_type": "display_data"
    }
   ],
   "source": [
    "plt.plot(np.arange(0, 50), rmses, 'g', marker='o')\n",
    "plt.xlabel('n_trees')\n",
    "plt.ylabel('rmse')\n",
    "plt.show()"
   ]
  },
  {
   "cell_type": "code",
   "execution_count": 15,
   "metadata": {
    "collapsed": false
   },
   "outputs": [
    {
     "name": "stdout",
     "output_type": "stream",
     "text": [
      "('Gradient boosting with different weights, rmse =', 4.810893280258556)\n"
     ]
    }
   ],
   "source": [
    "rmse = mean_squared_error(y_test, gbm_predict(X_test, base_algorithms, coefficients))**0.5\n",
    "print('Gradient boosting with different weights, rmse =', rmse)"
   ]
  },
  {
   "cell_type": "code",
   "execution_count": 16,
   "metadata": {
    "collapsed": true
   },
   "outputs": [],
   "source": [
    "write_result(3, [rmse])"
   ]
  },
  {
   "cell_type": "markdown",
   "metadata": {},
   "source": [
    "### Задание 4\n",
    "\n",
    "Реализованный вами метод - градиентный бустинг над деревьями - очень популярен в машинном обучении. Он представлен как в самой библиотеке sklearn, так и в сторонней библиотеке XGBoost, которая имеет свой питоновский интерфейс. На практике XGBoost работает заметно лучше GradientBoostingRegressor из sklearn, но для этого задания вы можете использовать любую реализацию. Исследуйте, переобучается ли градиентный бустинг с ростом числа итераций (и подумайте, почему), а также с ростом глубины деревьев. На основе наблюдений выпишите через пробел номера правильных из приведенных ниже утверждений в порядке возрастания номера (это будет ответ в п.4):"
   ]
  },
  {
   "cell_type": "markdown",
   "metadata": {
    "collapsed": true
   },
   "source": [
    "1) С увеличением числа деревьев начиная с некоторого момента качество работы градиентного бустинга не меняется существенно.\n",
    "\n",
    "2) С увеличением числа деревьев начиная с некоторого момента градиентный бустинг начинает переобучаться."
   ]
  },
  {
   "cell_type": "code",
   "execution_count": 17,
   "metadata": {
    "collapsed": false
   },
   "outputs": [],
   "source": [
    "n_trees_list = np.arange(10, 110, step=10)\n",
    "rmse_train_list = np.array([])\n",
    "rmse_test_list = np.array([])\n",
    "\n",
    "for n_trees in n_trees_list:\n",
    "    base_algorithms, coefficients = gradient_boosting_weight(n_trees=n_trees, max_depth=5, find_rmse=False)\n",
    "    \n",
    "    rmse_train= mean_squared_error(y_train, gbm_predict(X_train, base_algorithms, coefficients))**0.5\n",
    "    rmse_test = mean_squared_error(y_test, gbm_predict(X_test, base_algorithms, coefficients))**0.5\n",
    "    \n",
    "    rmse_train_list = np.append(rmse_train_list, rmse_train)\n",
    "    rmse_test_list = np.append(rmse_test_list, rmse_test)"
   ]
  },
  {
   "cell_type": "code",
   "execution_count": 18,
   "metadata": {
    "collapsed": false
   },
   "outputs": [
    {
     "data": {
      "image/png": "[encoded data removed]",
      "text/plain": [
       "<matplotlib.figure.Figure at 0x99360b8>"
      ]
     },
     "metadata": {},
     "output_type": "display_data"
    }
   ],
   "source": [
    "plt.plot(n_trees_list, rmse_train_list, 'r', marker='o')\n",
    "plt.plot(n_trees_list, rmse_test_list, 'g', marker='o')\n",
    "plt.xlabel('n_trees')\n",
    "plt.ylabel('rmse')\n",
    "plt.show()"
   ]
  },
  {
   "cell_type": "markdown",
   "metadata": {},
   "source": [
    "3) С ростом глубины деревьев, начиная с некоторого момента, качество работы градиентного бустинга на тестовой выборке начинает ухудшаться\n",
    "\n",
    "4) С ростом глубины деревьев, начиная с некоторого момента, качество работы градиентного бустинга перестает существенно изменяться"
   ]
  },
  {
   "cell_type": "code",
   "execution_count": 19,
   "metadata": {
    "collapsed": false
   },
   "outputs": [],
   "source": [
    "max_depth_list = np.arange(5, 55, step=5)\n",
    "rmse_train_list = np.array([])\n",
    "rmse_test_list = np.array([])\n",
    "\n",
    "for max_depth in max_depth_list:\n",
    "    base_algorithms, coefficients = gradient_boosting_weight(n_trees=50, max_depth=max_depth, find_rmse=False)\n",
    "    \n",
    "    rmse_train= mean_squared_error(y_train, gbm_predict(X_train, base_algorithms, coefficients))**0.5\n",
    "    rmse_test = mean_squared_error(y_test, gbm_predict(X_test, base_algorithms, coefficients))**0.5\n",
    "    \n",
    "    rmse_train_list = np.append(rmse_train_list, rmse_train)\n",
    "    rmse_test_list = np.append(rmse_test_list, rmse_test)"
   ]
  },
  {
   "cell_type": "code",
   "execution_count": 20,
   "metadata": {
    "collapsed": false
   },
   "outputs": [
    {
     "data": {
      "image/png": "[encoded data removed]",
      "text/plain": [
       "<matplotlib.figure.Figure at 0x9c57978>"
      ]
     },
     "metadata": {},
     "output_type": "display_data"
    }
   ],
   "source": [
    "plt.plot(max_depth_list, rmse_train_list, 'r', marker='o')\n",
    "plt.plot(max_depth_list, rmse_test_list, 'g', marker='o')\n",
    "\n",
    "plt.xlabel('max_depth')\n",
    "plt.ylabel('rmse')\n",
    "plt.show()"
   ]
  },
  {
   "cell_type": "code",
   "execution_count": 21,
   "metadata": {
    "collapsed": true
   },
   "outputs": [],
   "source": [
    "write_result(4, [2, 3]) # ?"
   ]
  },
  {
   "cell_type": "markdown",
   "metadata": {},
   "source": [
    "### Задание 5\n",
    "\n",
    "Сравните получаемое с помощью градиентного бустинга качество с качеством работы линейной регрессии. Для этого обучите LinearRegression из sklearn.linear_model (с параметрами по умолчанию) на обучающей выборке и оцените для прогнозов полученного алгоритма на тестовой выборке RMSE. Полученное качество - ответ в пункте 5. В данном примере качество работы простой модели должно было оказаться хуже, но не стоит забывать, что так бывает не всегда. В заданиях к этому курсу вы еще встретите пример обратной ситуации."
   ]
  },
  {
   "cell_type": "code",
   "execution_count": 22,
   "metadata": {
    "collapsed": false
   },
   "outputs": [
    {
     "name": "stdout",
     "output_type": "stream",
     "text": [
      "('Linear Regression, rmse =', 8.2704680349382489)\n"
     ]
    }
   ],
   "source": [
    "lg = LinearRegression()\n",
    "lg.fit(X_train, y_train)\n",
    "predictions = lg.predict(X_test)\n",
    "\n",
    "rmse = mean_squared_error(y_test, predictions)**0.5\n",
    "print(\"Linear Regression, rmse =\", rmse)\n",
    "\n",
    "write_result(5, [rmse])"
   ]
  }
 ],
 "metadata": {
  "kernelspec": {
   "display_name": "Python 2",
   "language": "python",
   "name": "python2"
  },
  "language_info": {
   "codemirror_mode": {
    "name": "ipython",
    "version": 2
   },
   "file_extension": ".py",
   "mimetype": "text/x-python",
   "name": "python",
   "nbconvert_exporter": "python",
   "pygments_lexer": "ipython2",
   "version": "2.7.11"
  }
 },
 "nbformat": 4,
 "nbformat_minor": 0
}
